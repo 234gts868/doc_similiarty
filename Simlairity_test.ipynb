{
 "cells": [
  {
   "cell_type": "code",
   "execution_count": 1,
   "metadata": {},
   "outputs": [
    {
     "output_type": "execute_result",
     "data": {
      "text/plain": [
       "<IPython.core.display.HTML object>"
      ],
      "text/html": "<script>\ncode_show=true; \nfunction code_toggle() {\n if (code_show){\n $('div.input').hide();\n } else {\n $('div.input').show();\n }\n code_show = !code_show\n} \n$( document ).ready(code_toggle);\n</script>\n<form action=\"javascript:code_toggle()\"><input type=\"submit\" value=\"Show/Hide code\"></form>"
     },
     "metadata": {},
     "execution_count": 1
    }
   ],
   "source": [
    "from IPython.display import HTML\n",
    "\n",
    "HTML('''<script>\n",
    "code_show=true; \n",
    "function code_toggle() {\n",
    " if (code_show){\n",
    " $('div.input').hide();\n",
    " } else {\n",
    " $('div.input').show();\n",
    " }\n",
    " code_show = !code_show\n",
    "} \n",
    "$( document ).ready(code_toggle);\n",
    "</script>\n",
    "<form action=\"javascript:code_toggle()\"><input type=\"submit\" value=\"Show/Hide code\"></form>''')"
   ]
  },
  {
   "cell_type": "code",
   "execution_count": 2,
   "metadata": {},
   "outputs": [],
   "source": [
    "#### for dataframe interactive\n",
    "# pip install qgrid==1.1.1\n",
    "# jupyter nbextension enable --py --sys-prefix qgrid\n",
    "# import qgrid\n",
    "# # only required if you have not enabled the ipywidgets nbextension yet\n",
    "# jupyter nbextension enable --py --sys-prefix widgetsnbextension\n",
    "# #to show a df simply use the below:\n",
    "# qgrid.show_grid(df)"
   ]
  },
  {
   "source": [
    "# 0. Load package"
   ],
   "cell_type": "markdown",
   "metadata": {}
  },
  {
   "cell_type": "code",
   "execution_count": 3,
   "metadata": {},
   "outputs": [],
   "source": [
    "#!/usr/bin/python\n",
    "# -*- coding: utf-8 -*-\n",
    "import pandas as pd\n",
    "import numpy as np\n",
    "from ckip_transformers.nlp import CkipWordSegmenter, CkipPosTagger, CkipNerChunker\n",
    "\n"
   ]
  },
  {
   "cell_type": "code",
   "execution_count": 4,
   "metadata": {},
   "outputs": [
    {
     "output_type": "execute_result",
     "data": {
      "text/plain": [
       "<pandas.io.formats.style.Styler at 0x27532c63a00>"
      ],
      "text/html": "<style  type=\"text/css\" >\n</style><table id=\"T_94700c2e_7ff0_11eb_828b_6c6a776380b6\" ><thead>    <tr>        <th class=\"col_heading level0 col0\" >document id</th>        <th class=\"col_heading level0 col1\" >sentence id</th>        <th class=\"col_heading level0 col2\" >content</th>    </tr></thead><tbody>\n                <tr>\n                                <td id=\"T_94700c2e_7ff0_11eb_828b_6c6a776380b6row0_col0\" class=\"data row0 col0\" >1</td>\n                        <td id=\"T_94700c2e_7ff0_11eb_828b_6c6a776380b6row0_col1\" class=\"data row0 col1\" >0</td>\n                        <td id=\"T_94700c2e_7ff0_11eb_828b_6c6a776380b6row0_col2\" class=\"data row0 col2\" >（台灣英文新聞／醫藥組　綜合報導）中央流行疫情指揮中心今(4)日公布國內新增2例武漢肺炎（COVID-19）境外移入確定病例(案960、961)，分別自奈及利亞及菲律賓入境。</td>\n            </tr>\n            <tr>\n                                <td id=\"T_94700c2e_7ff0_11eb_828b_6c6a776380b6row1_col0\" class=\"data row1 col0\" >1</td>\n                        <td id=\"T_94700c2e_7ff0_11eb_828b_6c6a776380b6row1_col1\" class=\"data row1 col1\" >0</td>\n                        <td id=\"T_94700c2e_7ff0_11eb_828b_6c6a776380b6row1_col2\" class=\"data row1 col2\" >指揮中心表示，案960為奈及利亞籍50多歲男性，長期居住台灣，並持有我國居留證，今(2021)年1月8日返回奈及利亞奔喪，在當地曾於1月18日出現輕微咳嗽，經自行服藥後症狀緩解。</td>\n            </tr>\n            <tr>\n                                <td id=\"T_94700c2e_7ff0_11eb_828b_6c6a776380b6row2_col0\" class=\"data row2 col0\" >1</td>\n                        <td id=\"T_94700c2e_7ff0_11eb_828b_6c6a776380b6row2_col1\" class=\"data row2 col1\" >0</td>\n                        <td id=\"T_94700c2e_7ff0_11eb_828b_6c6a776380b6row2_col2\" class=\"data row2 col2\" >個案2月28日返台，持有搭機前3日內檢驗陰性報告，入境後至防疫旅館檢疫，3月2日因全身倦怠及有慢性病之就醫需求，由衛生單位安排就醫採檢，於今日確診。個案就醫時接觸之相關人員皆有適當防護，故無匡列接觸者。</td>\n            </tr>\n            <tr>\n                                <td id=\"T_94700c2e_7ff0_11eb_828b_6c6a776380b6row3_col0\" class=\"data row3 col0\" >1</td>\n                        <td id=\"T_94700c2e_7ff0_11eb_828b_6c6a776380b6row3_col1\" class=\"data row3 col1\" >0</td>\n                        <td id=\"T_94700c2e_7ff0_11eb_828b_6c6a776380b6row3_col2\" class=\"data row3 col2\" >案961為菲律賓籍20多歲男性移工，今年2月9日來台工作，持有搭機前3日內檢驗陰性報告，入境後至集中檢疫所檢疫，2月22日接受檢疫期滿前採檢，結果為陰性。</td>\n            </tr>\n            <tr>\n                                <td id=\"T_94700c2e_7ff0_11eb_828b_6c6a776380b6row4_col0\" class=\"data row4 col0\" >1</td>\n                        <td id=\"T_94700c2e_7ff0_11eb_828b_6c6a776380b6row4_col1\" class=\"data row4 col1\" >0</td>\n                        <td id=\"T_94700c2e_7ff0_11eb_828b_6c6a776380b6row4_col2\" class=\"data row4 col2\" >個案檢疫期滿後，由仲介安排至其他住所自主健康管理，2月26日搭乘專車至醫院自費採檢，因核酸檢測未確定，27日先行收治住院隔離，同日及3月2日進行核酸檢驗，於今日確診。</td>\n            </tr>\n            <tr>\n                                <td id=\"T_94700c2e_7ff0_11eb_828b_6c6a776380b6row5_col0\" class=\"data row5 col0\" >1</td>\n                        <td id=\"T_94700c2e_7ff0_11eb_828b_6c6a776380b6row5_col1\" class=\"data row5 col1\" >0</td>\n                        <td id=\"T_94700c2e_7ff0_11eb_828b_6c6a776380b6row5_col2\" class=\"data row5 col2\" >個案入境至今無症狀，已掌握個案接觸者共9人，其中同車移工8人未確實佩戴口罩，列居家隔離，司機1人因有適當防護，列自主健康管理。</td>\n            </tr>\n            <tr>\n                                <td id=\"T_94700c2e_7ff0_11eb_828b_6c6a776380b6row6_col0\" class=\"data row6 col0\" >1</td>\n                        <td id=\"T_94700c2e_7ff0_11eb_828b_6c6a776380b6row6_col1\" class=\"data row6 col1\" >0</td>\n                        <td id=\"T_94700c2e_7ff0_11eb_828b_6c6a776380b6row6_col2\" class=\"data row6 col2\" >指揮中心統計，截至目前國內累計960例確診，分別為844例境外移入，77例本土病例，36例敦睦艦隊、2例航空器感染及1例不明；另1例(案530)移除為空號。確診個案中9人死亡、928人解除隔離、23人住院隔離中。</td>\n            </tr>\n            <tr>\n                                <td id=\"T_94700c2e_7ff0_11eb_828b_6c6a776380b6row7_col0\" class=\"data row7 col0\" >2</td>\n                        <td id=\"T_94700c2e_7ff0_11eb_828b_6c6a776380b6row7_col1\" class=\"data row7 col1\" >0</td>\n                        <td id=\"T_94700c2e_7ff0_11eb_828b_6c6a776380b6row7_col2\" class=\"data row7 col2\" >〔記者林惠琴／台北報導〕中央流行疫情指揮中心今日公布，武漢肺炎（新型冠狀病毒病，COVID-19）新增2例境外移入，分別自奈及利亞及菲律賓入境。</td>\n            </tr>\n            <tr>\n                                <td id=\"T_94700c2e_7ff0_11eb_828b_6c6a776380b6row8_col0\" class=\"data row8 col0\" >2</td>\n                        <td id=\"T_94700c2e_7ff0_11eb_828b_6c6a776380b6row8_col1\" class=\"data row8 col1\" >1</td>\n                        <td id=\"T_94700c2e_7ff0_11eb_828b_6c6a776380b6row8_col2\" class=\"data row8 col2\" >指揮中心發言人莊人祥表示，新增的案960為奈及利亞籍50多歲男性，長期居住台灣，並持有我國居留證，今年1月8日返回奈及利亞奔喪，在當地曾於1月18日出現輕微咳嗽，經自行服藥後症狀緩解。</td>\n            </tr>\n            <tr>\n                                <td id=\"T_94700c2e_7ff0_11eb_828b_6c6a776380b6row9_col0\" class=\"data row9 col0\" >2</td>\n                        <td id=\"T_94700c2e_7ff0_11eb_828b_6c6a776380b6row9_col1\" class=\"data row9 col1\" >2</td>\n                        <td id=\"T_94700c2e_7ff0_11eb_828b_6c6a776380b6row9_col2\" class=\"data row9 col2\" >該名個案2月28日返台，持有搭機前3日內檢驗陰性報告，入境後至防疫旅館檢疫，3月2日因全身倦怠及有慢性病之就醫需求，由衛生單位安排就醫採檢，於今日確診。就醫時接觸相關人員皆有適當防護，無匡列接觸者。</td>\n            </tr>\n            <tr>\n                                <td id=\"T_94700c2e_7ff0_11eb_828b_6c6a776380b6row10_col0\" class=\"data row10 col0\" >2</td>\n                        <td id=\"T_94700c2e_7ff0_11eb_828b_6c6a776380b6row10_col1\" class=\"data row10 col1\" >3</td>\n                        <td id=\"T_94700c2e_7ff0_11eb_828b_6c6a776380b6row10_col2\" class=\"data row10 col2\" >案961為菲律賓籍20多歲男性移工，今年2月9日來台工作，持有搭機前3日內檢驗陰性報告，入境後至集中檢疫所檢疫，2月22日接受檢疫期滿前採檢，結果為陰性，檢疫期滿後，由仲介安排至其他住所自主健康管理，2月26日搭乘專車至醫院自費採檢，因核酸檢測未確定，27日先行收治住院隔離，同日及3月2日進行核酸檢驗，於今日確診。</td>\n            </tr>\n            <tr>\n                                <td id=\"T_94700c2e_7ff0_11eb_828b_6c6a776380b6row11_col0\" class=\"data row11 col0\" >2</td>\n                        <td id=\"T_94700c2e_7ff0_11eb_828b_6c6a776380b6row11_col1\" class=\"data row11 col1\" >4</td>\n                        <td id=\"T_94700c2e_7ff0_11eb_828b_6c6a776380b6row11_col2\" class=\"data row11 col2\" >該名個案入境至今無症狀，已掌握個案接觸者共9人，其中同車移工8人未確實佩戴口罩，列居家隔離，司機1人因有適當防護，列自主健康管理。</td>\n            </tr>\n            <tr>\n                                <td id=\"T_94700c2e_7ff0_11eb_828b_6c6a776380b6row12_col0\" class=\"data row12 col0\" >2</td>\n                        <td id=\"T_94700c2e_7ff0_11eb_828b_6c6a776380b6row12_col1\" class=\"data row12 col1\" >5</td>\n                        <td id=\"T_94700c2e_7ff0_11eb_828b_6c6a776380b6row12_col2\" class=\"data row12 col2\" >指揮中心統計，截至目前國內累計960例武漢肺炎，分別為844例境外移入，77例本土病例，36例敦睦艦隊、2例航空器感染及1例不明；另1例（案530）移除為空號。確診個案中9人死亡、928人解除隔離、23人住院隔離中。</td>\n            </tr>\n    </tbody></table>"
     },
     "metadata": {},
     "execution_count": 4
    }
   ],
   "source": [
    "pd.set_option('display.max_rows', None)\n",
    "pd.set_option('display.max_columns', None)\n",
    "pd.set_option('display.width', None)\n",
    "pd.set_option('display.max_colwidth', -1)\n",
    "\n",
    "document1 = [\"（台灣英文新聞／醫藥組　綜合報導）中央流行疫情指揮中心今(4)日公布國內新增2例武漢肺炎（COVID-19）境外移入確定病例(案960、961)，分別自奈及利亞及菲律賓入境。\",\n",
    "\"指揮中心表示，案960為奈及利亞籍50多歲男性，長期居住台灣，並持有我國居留證，今(2021)年1月8日返回奈及利亞奔喪，在當地曾於1月18日出現輕微咳嗽，經自行服藥後症狀緩解。\",\n",
    "\"個案2月28日返台，持有搭機前3日內檢驗陰性報告，入境後至防疫旅館檢疫，3月2日因全身倦怠及有慢性病之就醫需求，由衛生單位安排就醫採檢，於今日確診。個案就醫時接觸之相關人員皆有適當防護，故無匡列接觸者。\",\n",
    "\"案961為菲律賓籍20多歲男性移工，今年2月9日來台工作，持有搭機前3日內檢驗陰性報告，入境後至集中檢疫所檢疫，2月22日接受檢疫期滿前採檢，結果為陰性。\",\n",
    "\"個案檢疫期滿後，由仲介安排至其他住所自主健康管理，2月26日搭乘專車至醫院自費採檢，因核酸檢測未確定，27日先行收治住院隔離，同日及3月2日進行核酸檢驗，於今日確診。\",\n",
    "\"個案入境至今無症狀，已掌握個案接觸者共9人，其中同車移工8人未確實佩戴口罩，列居家隔離，司機1人因有適當防護，列自主健康管理。\",\n",
    "\"指揮中心統計，截至目前國內累計960例確診，分別為844例境外移入，77例本土病例，36例敦睦艦隊、2例航空器感染及1例不明；另1例(案530)移除為空號。確診個案中9人死亡、928人解除隔離、23人住院隔離中。\"]\n",
    "document2 =[\"〔記者林惠琴／台北報導〕中央流行疫情指揮中心今日公布，武漢肺炎（新型冠狀病毒病，COVID-19）新增2例境外移入，分別自奈及利亞及菲律賓入境。\",\n",
    "\"指揮中心發言人莊人祥表示，新增的案960為奈及利亞籍50多歲男性，長期居住台灣，並持有我國居留證，今年1月8日返回奈及利亞奔喪，在當地曾於1月18日出現輕微咳嗽，經自行服藥後症狀緩解。\",\n",
    "\"該名個案2月28日返台，持有搭機前3日內檢驗陰性報告，入境後至防疫旅館檢疫，3月2日因全身倦怠及有慢性病之就醫需求，由衛生單位安排就醫採檢，於今日確診。就醫時接觸相關人員皆有適當防護，無匡列接觸者。\",\n",
    "\"案961為菲律賓籍20多歲男性移工，今年2月9日來台工作，持有搭機前3日內檢驗陰性報告，入境後至集中檢疫所檢疫，2月22日接受檢疫期滿前採檢，結果為陰性，檢疫期滿後，由仲介安排至其他住所自主健康管理，2月26日搭乘專車至醫院自費採檢，因核酸檢測未確定，27日先行收治住院隔離，同日及3月2日進行核酸檢驗，於今日確診。\",\n",
    "\"該名個案入境至今無症狀，已掌握個案接觸者共9人，其中同車移工8人未確實佩戴口罩，列居家隔離，司機1人因有適當防護，列自主健康管理。\",\n",
    "\"指揮中心統計，截至目前國內累計960例武漢肺炎，分別為844例境外移入，77例本土病例，36例敦睦艦隊、2例航空器感染及1例不明；另1例（案530）移除為空號。確診個案中9人死亡、928人解除隔離、23人住院隔離中。\",]\n",
    "text = []\n",
    "text.append(document1)\n",
    "text.append(document2)\n",
    "\n",
    "# print(\"文件一\")\n",
    "# for doc1 in document1:\n",
    "#     print(doc1)\n",
    "# print(\"文件二\")\n",
    "# for doc2 in document2:\n",
    "#     print(doc2)\n",
    "d = []\n",
    "i = 0\n",
    "for doc1 in document1:\n",
    "    \n",
    "    d.append(\n",
    "        {\n",
    "            'document id': \"1\",\n",
    "            'sentence id': i,\n",
    "            'content':  doc1\n",
    "        }\n",
    "    )\n",
    "    i= i+1\n",
    "    i = 0\n",
    "for doc2 in document2:\n",
    "    \n",
    "    d.append(\n",
    "        {\n",
    "            'document id': \"2\",\n",
    "            'sentence id': i,\n",
    "            'content':  doc2\n",
    "        }\n",
    "    )\n",
    "    i= i+1\n",
    "pd.DataFrame(d)\n",
    "pd.DataFrame(d).style.hide_index()"
   ]
  },
  {
   "source": [
    "# 2. Load CKIP model and Tokenization"
   ],
   "cell_type": "markdown",
   "metadata": {}
  },
  {
   "cell_type": "code",
   "execution_count": 5,
   "metadata": {},
   "outputs": [],
   "source": [
    "ws_driver  = CkipWordSegmenter(level=3)\n",
    "pos_driver = CkipPosTagger(level=3)\n",
    "ner_driver = CkipNerChunker(level=3)"
   ]
  },
  {
   "cell_type": "code",
   "execution_count": 6,
   "metadata": {},
   "outputs": [
    {
     "output_type": "stream",
     "name": "stderr",
     "text": [
      "Tokenization: 100%|██████████| 7/7 [00:00<00:00, 7169.75it/s]\n",
      "Inference: 100%|██████████| 1/1 [00:00<00:00,  1.56it/s]\n",
      "Tokenization: 100%|██████████| 6/6 [00:00<00:00, 6150.01it/s]\n",
      "Inference: 100%|██████████| 1/1 [00:00<00:00,  1.14it/s]\n"
     ]
    }
   ],
   "source": [
    "doc_ws= []\n",
    "\n",
    "for doc in text:\n",
    "    doc_ws.append(ws_driver(doc))\n",
    "\n"
   ]
  },
  {
   "cell_type": "code",
   "execution_count": 7,
   "metadata": {
    "tags": []
   },
   "outputs": [
    {
     "output_type": "execute_result",
     "data": {
      "text/plain": [
       "<pandas.io.formats.style.Styler at 0x2754d3b5250>"
      ],
      "text/html": "<style  type=\"text/css\" >\n</style><table id=\"T_a08bc64f_7ff0_11eb_8481_6c6a776380b6\" ><thead>    <tr>        <th class=\"col_heading level0 col0\" >document id</th>        <th class=\"col_heading level0 col1\" >sentence id</th>        <th class=\"col_heading level0 col2\" >content</th>        <th class=\"col_heading level0 col3\" >token result</th>    </tr></thead><tbody>\n                <tr>\n                                <td id=\"T_a08bc64f_7ff0_11eb_8481_6c6a776380b6row0_col0\" class=\"data row0 col0\" >1</td>\n                        <td id=\"T_a08bc64f_7ff0_11eb_8481_6c6a776380b6row0_col1\" class=\"data row0 col1\" >0</td>\n                        <td id=\"T_a08bc64f_7ff0_11eb_8481_6c6a776380b6row0_col2\" class=\"data row0 col2\" >（台灣英文新聞／醫藥組　綜合報導）中央流行疫情指揮中心今(4)日公布國內新增2例武漢肺炎（COVID-19）境外移入確定病例(案960、961)，分別自奈及利亞及菲律賓入境。</td>\n                        <td id=\"T_a08bc64f_7ff0_11eb_8481_6c6a776380b6row0_col3\" class=\"data row0 col3\" >['（', '台灣', '英文', '新聞', '／', '醫藥組', '\\u3000', '綜合', '報導', '）', '中央', '流行', '疫情', '指揮', '中心', '今', '(4)', '日', '公布', '國內', '新增', '2', '例', '武漢', '肺炎', '（', 'COVID-19', '）', '境外', '移入', '確定', '病例', '(', '案', '960', '、', '961', ')', '，', '分別', '自', '奈及利亞', '及', '菲律賓', '入境', '。']</td>\n            </tr>\n            <tr>\n                                <td id=\"T_a08bc64f_7ff0_11eb_8481_6c6a776380b6row1_col0\" class=\"data row1 col0\" >1</td>\n                        <td id=\"T_a08bc64f_7ff0_11eb_8481_6c6a776380b6row1_col1\" class=\"data row1 col1\" >1</td>\n                        <td id=\"T_a08bc64f_7ff0_11eb_8481_6c6a776380b6row1_col2\" class=\"data row1 col2\" >指揮中心表示，案960為奈及利亞籍50多歲男性，長期居住台灣，並持有我國居留證，今(2021)年1月8日返回奈及利亞奔喪，在當地曾於1月18日出現輕微咳嗽，經自行服藥後症狀緩解。</td>\n                        <td id=\"T_a08bc64f_7ff0_11eb_8481_6c6a776380b6row1_col3\" class=\"data row1 col3\" >['指揮', '中心', '表示', '，', '案', '960', '為', '奈及利亞籍', '50多', '歲', '男性', '，', '長期', '居住', '台灣', '，', '並', '持有', '我國', '居留證', '，', '今', '(2021', ')', '年', '1月', '8日', '返回', '奈及利亞', '奔喪', '，', '在', '當地', '曾', '於', '1月', '18日', '出現', '輕微', '咳嗽', '，', '經', '自行', '服藥', '後', '症狀', '緩解', '。']</td>\n            </tr>\n            <tr>\n                                <td id=\"T_a08bc64f_7ff0_11eb_8481_6c6a776380b6row2_col0\" class=\"data row2 col0\" >1</td>\n                        <td id=\"T_a08bc64f_7ff0_11eb_8481_6c6a776380b6row2_col1\" class=\"data row2 col1\" >2</td>\n                        <td id=\"T_a08bc64f_7ff0_11eb_8481_6c6a776380b6row2_col2\" class=\"data row2 col2\" >個案2月28日返台，持有搭機前3日內檢驗陰性報告，入境後至防疫旅館檢疫，3月2日因全身倦怠及有慢性病之就醫需求，由衛生單位安排就醫採檢，於今日確診。個案就醫時接觸之相關人員皆有適當防護，故無匡列接觸者。</td>\n                        <td id=\"T_a08bc64f_7ff0_11eb_8481_6c6a776380b6row2_col3\" class=\"data row2 col3\" >['個案', '2月', '28日', '返台', '，', '持有', '搭機', '前', '3', '日', '內', '檢驗', '陰性', '報告', '，', '入境', '後', '至', '防疫', '旅館', '檢疫', '，', '3月', '2日', '因', '全身', '倦怠', '及', '有', '慢性病', '之', '就醫', '需求', '，', '由', '衛生', '單位', '安排', '就醫', '採檢', '，', '於', '今日', '確診', '。', '個案', '就醫', '時', '接觸', '之', '相關', '人員', '皆', '有', '適當', '防護', '，', '故', '無', '匡列', '接觸', '者', '。']</td>\n            </tr>\n            <tr>\n                                <td id=\"T_a08bc64f_7ff0_11eb_8481_6c6a776380b6row3_col0\" class=\"data row3 col0\" >1</td>\n                        <td id=\"T_a08bc64f_7ff0_11eb_8481_6c6a776380b6row3_col1\" class=\"data row3 col1\" >3</td>\n                        <td id=\"T_a08bc64f_7ff0_11eb_8481_6c6a776380b6row3_col2\" class=\"data row3 col2\" >案961為菲律賓籍20多歲男性移工，今年2月9日來台工作，持有搭機前3日內檢驗陰性報告，入境後至集中檢疫所檢疫，2月22日接受檢疫期滿前採檢，結果為陰性。</td>\n                        <td id=\"T_a08bc64f_7ff0_11eb_8481_6c6a776380b6row3_col3\" class=\"data row3 col3\" >['案', '961', '為', '菲律賓籍', '20多', '歲', '男性', '移工', '，', '今年', '2月', '9日', '來', '台', '工作', '，', '持有', '搭機', '前', '3', '日', '內', '檢驗', '陰性', '報告', '，', '入境', '後', '至', '集中', '檢疫所', '檢疫', '，', '2月', '22日', '接受', '檢疫', '期滿', '前', '採檢', '，', '結果', '為', '陰性', '。']</td>\n            </tr>\n            <tr>\n                                <td id=\"T_a08bc64f_7ff0_11eb_8481_6c6a776380b6row4_col0\" class=\"data row4 col0\" >1</td>\n                        <td id=\"T_a08bc64f_7ff0_11eb_8481_6c6a776380b6row4_col1\" class=\"data row4 col1\" >4</td>\n                        <td id=\"T_a08bc64f_7ff0_11eb_8481_6c6a776380b6row4_col2\" class=\"data row4 col2\" >個案檢疫期滿後，由仲介安排至其他住所自主健康管理，2月26日搭乘專車至醫院自費採檢，因核酸檢測未確定，27日先行收治住院隔離，同日及3月2日進行核酸檢驗，於今日確診。</td>\n                        <td id=\"T_a08bc64f_7ff0_11eb_8481_6c6a776380b6row4_col3\" class=\"data row4 col3\" >['個案', '檢疫', '期滿', '後', '，', '由', '仲介', '安排', '至', '其他', '住所', '自主', '健康', '管理', '，', '2月', '26日', '搭乘', '專車', '至', '醫院', '自費', '採檢', '，', '因', '核酸', '檢測', '未', '確定', '，', '27日', '先行', '收治', '住院', '隔離', '，', '同', '日', '及', '3月', '2日', '進行', '核酸', '檢驗', '，', '於', '今日', '確診', '。']</td>\n            </tr>\n            <tr>\n                                <td id=\"T_a08bc64f_7ff0_11eb_8481_6c6a776380b6row5_col0\" class=\"data row5 col0\" >1</td>\n                        <td id=\"T_a08bc64f_7ff0_11eb_8481_6c6a776380b6row5_col1\" class=\"data row5 col1\" >5</td>\n                        <td id=\"T_a08bc64f_7ff0_11eb_8481_6c6a776380b6row5_col2\" class=\"data row5 col2\" >個案入境至今無症狀，已掌握個案接觸者共9人，其中同車移工8人未確實佩戴口罩，列居家隔離，司機1人因有適當防護，列自主健康管理。</td>\n                        <td id=\"T_a08bc64f_7ff0_11eb_8481_6c6a776380b6row5_col3\" class=\"data row5 col3\" >['個案', '入境', '至今', '無', '症狀', '，', '已', '掌握', '個案', '接觸', '者', '共', '9', '人', '，', '其中', '同', '車', '移工', '8', '人', '未', '確實', '佩戴', '口罩', '，', '列', '居家', '隔離', '，', '司機', '1', '人', '因', '有', '適當', '防護', '，', '列', '自主', '健康', '管理', '。']</td>\n            </tr>\n            <tr>\n                                <td id=\"T_a08bc64f_7ff0_11eb_8481_6c6a776380b6row6_col0\" class=\"data row6 col0\" >1</td>\n                        <td id=\"T_a08bc64f_7ff0_11eb_8481_6c6a776380b6row6_col1\" class=\"data row6 col1\" >6</td>\n                        <td id=\"T_a08bc64f_7ff0_11eb_8481_6c6a776380b6row6_col2\" class=\"data row6 col2\" >指揮中心統計，截至目前國內累計960例確診，分別為844例境外移入，77例本土病例，36例敦睦艦隊、2例航空器感染及1例不明；另1例(案530)移除為空號。確診個案中9人死亡、928人解除隔離、23人住院隔離中。</td>\n                        <td id=\"T_a08bc64f_7ff0_11eb_8481_6c6a776380b6row6_col3\" class=\"data row6 col3\" >['指揮', '中心', '統計', '，', '截至', '目前', '國內', '累計', '960', '例', '確診', '，', '分別', '為', '844', '例', '境', '外', '移入', '，', '77', '例', '本土', '病例', '，', '36', '例', '敦睦', '艦隊', '、', '2', '例', '航空器', '感染', '及', '1', '例', '不明', '；', '另', '1', '例', '(', '案', '530', ')', '移除為', '空號', '。', '確診', '個案', '中', '9', '人', '死亡', '、', '928', '人', '解除', '隔離', '、', '23', '人', '住院', '隔離', '中', '。']</td>\n            </tr>\n            <tr>\n                                <td id=\"T_a08bc64f_7ff0_11eb_8481_6c6a776380b6row7_col0\" class=\"data row7 col0\" >2</td>\n                        <td id=\"T_a08bc64f_7ff0_11eb_8481_6c6a776380b6row7_col1\" class=\"data row7 col1\" >0</td>\n                        <td id=\"T_a08bc64f_7ff0_11eb_8481_6c6a776380b6row7_col2\" class=\"data row7 col2\" >〔記者林惠琴／台北報導〕中央流行疫情指揮中心今日公布，武漢肺炎（新型冠狀病毒病，COVID-19）新增2例境外移入，分別自奈及利亞及菲律賓入境。</td>\n                        <td id=\"T_a08bc64f_7ff0_11eb_8481_6c6a776380b6row7_col3\" class=\"data row7 col3\" >['〔', '記者', '林惠琴', '／', '台北', '報導', '〕', '中央', '流行', '疫情', '指揮', '中心', '今日', '公布', '，', '武漢', '肺炎', '（', '新型', '冠狀病毒病', '，', 'COVID-19', '）', '新增', '2', '例', '境', '外', '移入', '，', '分別', '自', '奈及利亞', '及', '菲律賓', '入境', '。']</td>\n            </tr>\n            <tr>\n                                <td id=\"T_a08bc64f_7ff0_11eb_8481_6c6a776380b6row8_col0\" class=\"data row8 col0\" >2</td>\n                        <td id=\"T_a08bc64f_7ff0_11eb_8481_6c6a776380b6row8_col1\" class=\"data row8 col1\" >1</td>\n                        <td id=\"T_a08bc64f_7ff0_11eb_8481_6c6a776380b6row8_col2\" class=\"data row8 col2\" >指揮中心發言人莊人祥表示，新增的案960為奈及利亞籍50多歲男性，長期居住台灣，並持有我國居留證，今年1月8日返回奈及利亞奔喪，在當地曾於1月18日出現輕微咳嗽，經自行服藥後症狀緩解。</td>\n                        <td id=\"T_a08bc64f_7ff0_11eb_8481_6c6a776380b6row8_col3\" class=\"data row8 col3\" >['指揮', '中心', '發言人', '莊人祥', '表示', '，', '新增', '的', '案', '960', '為', '奈及利亞籍', '50多', '歲', '男性', '，', '長期', '居住', '台灣', '，', '並', '持有', '我國', '居留證', '，', '今年', '1月', '8日', '返回', '奈及利亞', '奔喪', '，', '在', '當地', '曾', '於', '1月', '18日', '出現', '輕微', '咳嗽', '，', '經', '自行', '服藥', '後', '症狀', '緩解', '。']</td>\n            </tr>\n            <tr>\n                                <td id=\"T_a08bc64f_7ff0_11eb_8481_6c6a776380b6row9_col0\" class=\"data row9 col0\" >2</td>\n                        <td id=\"T_a08bc64f_7ff0_11eb_8481_6c6a776380b6row9_col1\" class=\"data row9 col1\" >2</td>\n                        <td id=\"T_a08bc64f_7ff0_11eb_8481_6c6a776380b6row9_col2\" class=\"data row9 col2\" >該名個案2月28日返台，持有搭機前3日內檢驗陰性報告，入境後至防疫旅館檢疫，3月2日因全身倦怠及有慢性病之就醫需求，由衛生單位安排就醫採檢，於今日確診。就醫時接觸相關人員皆有適當防護，無匡列接觸者。</td>\n                        <td id=\"T_a08bc64f_7ff0_11eb_8481_6c6a776380b6row9_col3\" class=\"data row9 col3\" >['該', '名', '個案', '2月', '28日', '返台', '，', '持有', '搭機', '前', '3', '日', '內', '檢驗', '陰性', '報告', '，', '入境', '後', '至', '防疫', '旅館', '檢疫', '，', '3月', '2日', '因', '全身', '倦怠', '及', '有', '慢性病', '之', '就醫', '需求', '，', '由', '衛生', '單位', '安排', '就醫', '採檢', '，', '於', '今日', '確診', '。', '就醫', '時', '接觸', '相關', '人員', '皆', '有', '適當', '防護', '，', '無', '匡列', '接觸', '者', '。']</td>\n            </tr>\n            <tr>\n                                <td id=\"T_a08bc64f_7ff0_11eb_8481_6c6a776380b6row10_col0\" class=\"data row10 col0\" >2</td>\n                        <td id=\"T_a08bc64f_7ff0_11eb_8481_6c6a776380b6row10_col1\" class=\"data row10 col1\" >3</td>\n                        <td id=\"T_a08bc64f_7ff0_11eb_8481_6c6a776380b6row10_col2\" class=\"data row10 col2\" >案961為菲律賓籍20多歲男性移工，今年2月9日來台工作，持有搭機前3日內檢驗陰性報告，入境後至集中檢疫所檢疫，2月22日接受檢疫期滿前採檢，結果為陰性，檢疫期滿後，由仲介安排至其他住所自主健康管理，2月26日搭乘專車至醫院自費採檢，因核酸檢測未確定，27日先行收治住院隔離，同日及3月2日進行核酸檢驗，於今日確診。</td>\n                        <td id=\"T_a08bc64f_7ff0_11eb_8481_6c6a776380b6row10_col3\" class=\"data row10 col3\" >['案', '961', '為', '菲律賓籍', '20多', '歲', '男性', '移工', '，', '今年', '2月', '9日', '來', '台', '工作', '，', '持有', '搭機', '前', '3', '日', '內', '檢驗', '陰性', '報告', '，', '入境', '後', '至', '集中', '檢疫所', '檢疫', '，', '2月', '22日', '接受', '檢疫', '期滿', '前', '採檢', '，', '結果', '為', '陰性', '，', '檢疫', '期滿', '後', '，', '由', '仲介', '安排', '至', '其他', '住所', '自主', '健康', '管理', '，', '2月', '26日', '搭乘', '專車', '至', '醫院', '自費', '採檢', '，', '因', '核酸', '檢測', '未', '確定', '，', '27日', '先行', '收治', '住院', '隔離', '，', '同', '日', '及', '3月', '2日', '進行', '核酸', '檢驗', '，', '於', '今日', '確診', '。']</td>\n            </tr>\n            <tr>\n                                <td id=\"T_a08bc64f_7ff0_11eb_8481_6c6a776380b6row11_col0\" class=\"data row11 col0\" >2</td>\n                        <td id=\"T_a08bc64f_7ff0_11eb_8481_6c6a776380b6row11_col1\" class=\"data row11 col1\" >4</td>\n                        <td id=\"T_a08bc64f_7ff0_11eb_8481_6c6a776380b6row11_col2\" class=\"data row11 col2\" >該名個案入境至今無症狀，已掌握個案接觸者共9人，其中同車移工8人未確實佩戴口罩，列居家隔離，司機1人因有適當防護，列自主健康管理。</td>\n                        <td id=\"T_a08bc64f_7ff0_11eb_8481_6c6a776380b6row11_col3\" class=\"data row11 col3\" >['該', '名', '個案', '入境', '至今', '無', '症狀', '，', '已', '掌握', '個案', '接觸', '者', '共', '9', '人', '，', '其中', '同', '車', '移工', '8', '人', '未', '確實', '佩戴', '口罩', '，', '列', '居家', '隔離', '，', '司機', '1', '人', '因', '有', '適當', '防護', '，', '列', '自主', '健康', '管理', '。']</td>\n            </tr>\n            <tr>\n                                <td id=\"T_a08bc64f_7ff0_11eb_8481_6c6a776380b6row12_col0\" class=\"data row12 col0\" >2</td>\n                        <td id=\"T_a08bc64f_7ff0_11eb_8481_6c6a776380b6row12_col1\" class=\"data row12 col1\" >5</td>\n                        <td id=\"T_a08bc64f_7ff0_11eb_8481_6c6a776380b6row12_col2\" class=\"data row12 col2\" >指揮中心統計，截至目前國內累計960例武漢肺炎，分別為844例境外移入，77例本土病例，36例敦睦艦隊、2例航空器感染及1例不明；另1例（案530）移除為空號。確診個案中9人死亡、928人解除隔離、23人住院隔離中。</td>\n                        <td id=\"T_a08bc64f_7ff0_11eb_8481_6c6a776380b6row12_col3\" class=\"data row12 col3\" >['指揮', '中心', '統計', '，', '截至', '目前', '國內', '累計', '960', '例', '武漢', '肺炎', '，', '分別', '為', '844', '例', '境', '外', '移入', '，', '77', '例', '本土', '病例', '，', '36', '例', '敦睦', '艦隊', '、', '2', '例', '航空器', '感染', '及', '1', '例', '不明', '；', '另', '1', '例', '（', '案', '530', '）', '移除', '為', '空號', '。', '確診', '個案', '中', '9', '人', '死亡', '、', '928', '人', '解除', '隔離', '、', '23', '人', '住院', '隔離', '中', '。']</td>\n            </tr>\n    </tbody></table>"
     },
     "metadata": {},
     "execution_count": 7
    }
   ],
   "source": [
    "d= []\n",
    "document_id = 0\n",
    "for doc,ws in zip(text,doc_ws):\n",
    "    \n",
    "    document_id =document_id+1\n",
    "    for i in range(len(doc)):\n",
    "        \n",
    "        d.append(\n",
    "        {\n",
    "            'document id': document_id,\n",
    "            'sentence id': i,\n",
    "            'content':  doc[i],\n",
    "            'token result' : ws[i]\n",
    "        }\n",
    "    )\n",
    "pd.DataFrame(d)\n",
    "pd.DataFrame(d).style.hide_index()"
   ]
  },
  {
   "source": [
    "# 3. Similarity method compare\n",
    "1. levenshtein & normalized_levenshtein\n",
    "2. LongestCommonSubsequence & metric_lcs\n",
    "3. Jaccard coefficient\n",
    "4. Dice coefficient\n",
    "5. Overlap coefficient\n",
    "6. cosine similarity\n",
    "\n",
    "## Method descrition\n",
    "1. 首先我們有兩件文件，文件A以及文件B，將這兩個文件進行斷詞斷句。 *** 任務目標:檢測文件A 是否抄襲 (目前database 僅有一件文件B)\n",
    "2. 將斷詞結果的list套入距離/相似度的演算法進行文件A的句子(7句)以及文件B的句子(六句)兩兩比較。\n",
    "3. 將相似程度最高的句子內容以及相似分數/距離列出來(以文件A為基準，找到文件B當中相似度最高的句子)。\n",
    "4. 將一樣的文字敘述透過顏色標註(疑問點:目前的作法是將文件B token內容直接丟進去，看是否有無在文件A token裡面，不考慮順序)\n"
   ],
   "cell_type": "markdown",
   "metadata": {}
  },
  {
   "source": [
    "## 1. levenshtein & normalized_levenshtein"
   ],
   "cell_type": "markdown",
   "metadata": {}
  },
  {
   "cell_type": "code",
   "execution_count": 9,
   "metadata": {},
   "outputs": [
    {
     "output_type": "execute_result",
     "data": {
      "text/plain": [
       "<pandas.io.formats.style.Styler at 0x2754d35af70>"
      ],
      "text/html": "<style  type=\"text/css\" >\n</style><table id=\"T_a09a61d6_7ff0_11eb_be45_6c6a776380b6\" ><thead>    <tr>        <th class=\"col_heading level0 col0\" >document1_sentence id</th>        <th class=\"col_heading level0 col1\" >document2_sentence id</th>        <th class=\"col_heading level0 col2\" >document1 content</th>        <th class=\"col_heading level0 col3\" >document2 content</th>        <th class=\"col_heading level0 col4\" >normalized_levenshtein</th>    </tr></thead><tbody>\n                <tr>\n                                <td id=\"T_a09a61d6_7ff0_11eb_be45_6c6a776380b6row0_col0\" class=\"data row0 col0\" >0</td>\n                        <td id=\"T_a09a61d6_7ff0_11eb_be45_6c6a776380b6row0_col1\" class=\"data row0 col1\" >0</td>\n                        <td id=\"T_a09a61d6_7ff0_11eb_be45_6c6a776380b6row0_col2\" class=\"data row0 col2\" >（台灣英文新聞／醫藥組　綜合報導）中央流行疫情指揮中心今(4)日公布國內新增2例武漢肺炎（COVID-19）境外移入確定病例(案960、961)，分別自奈及利亞及菲律賓入境。</td>\n                        <td id=\"T_a09a61d6_7ff0_11eb_be45_6c6a776380b6row0_col3\" class=\"data row0 col3\" >〔記者林惠琴／台北報導〕中央流行疫情指揮中心今日公布，武漢肺炎（新型冠狀病毒病，COVID-19）新增2例境外移入，分別自奈及利亞及菲律賓入境。</td>\n                        <td id=\"T_a09a61d6_7ff0_11eb_be45_6c6a776380b6row0_col4\" class=\"data row0 col4\" >0.586957</td>\n            </tr>\n            <tr>\n                                <td id=\"T_a09a61d6_7ff0_11eb_be45_6c6a776380b6row1_col0\" class=\"data row1 col0\" >1</td>\n                        <td id=\"T_a09a61d6_7ff0_11eb_be45_6c6a776380b6row1_col1\" class=\"data row1 col1\" >1</td>\n                        <td id=\"T_a09a61d6_7ff0_11eb_be45_6c6a776380b6row1_col2\" class=\"data row1 col2\" >指揮中心表示，案960為奈及利亞籍50多歲男性，長期居住台灣，並持有我國居留證，今(2021)年1月8日返回奈及利亞奔喪，在當地曾於1月18日出現輕微咳嗽，經自行服藥後症狀緩解。</td>\n                        <td id=\"T_a09a61d6_7ff0_11eb_be45_6c6a776380b6row1_col3\" class=\"data row1 col3\" >指揮中心發言人莊人祥表示，新增的案960為奈及利亞籍50多歲男性，長期居住台灣，並持有我國居留證，今年1月8日返回奈及利亞奔喪，在當地曾於1月18日出現輕微咳嗽，經自行服藥後症狀緩解。</td>\n                        <td id=\"T_a09a61d6_7ff0_11eb_be45_6c6a776380b6row1_col4\" class=\"data row1 col4\" >0.163265</td>\n            </tr>\n            <tr>\n                                <td id=\"T_a09a61d6_7ff0_11eb_be45_6c6a776380b6row2_col0\" class=\"data row2 col0\" >2</td>\n                        <td id=\"T_a09a61d6_7ff0_11eb_be45_6c6a776380b6row2_col1\" class=\"data row2 col1\" >2</td>\n                        <td id=\"T_a09a61d6_7ff0_11eb_be45_6c6a776380b6row2_col2\" class=\"data row2 col2\" >個案2月28日返台，持有搭機前3日內檢驗陰性報告，入境後至防疫旅館檢疫，3月2日因全身倦怠及有慢性病之就醫需求，由衛生單位安排就醫採檢，於今日確診。個案就醫時接觸之相關人員皆有適當防護，故無匡列接觸者。</td>\n                        <td id=\"T_a09a61d6_7ff0_11eb_be45_6c6a776380b6row2_col3\" class=\"data row2 col3\" >該名個案2月28日返台，持有搭機前3日內檢驗陰性報告，入境後至防疫旅館檢疫，3月2日因全身倦怠及有慢性病之就醫需求，由衛生單位安排就醫採檢，於今日確診。就醫時接觸相關人員皆有適當防護，無匡列接觸者。</td>\n                        <td id=\"T_a09a61d6_7ff0_11eb_be45_6c6a776380b6row2_col4\" class=\"data row2 col4\" >0.079365</td>\n            </tr>\n            <tr>\n                                <td id=\"T_a09a61d6_7ff0_11eb_be45_6c6a776380b6row3_col0\" class=\"data row3 col0\" >3</td>\n                        <td id=\"T_a09a61d6_7ff0_11eb_be45_6c6a776380b6row3_col1\" class=\"data row3 col1\" >3</td>\n                        <td id=\"T_a09a61d6_7ff0_11eb_be45_6c6a776380b6row3_col2\" class=\"data row3 col2\" >案961為菲律賓籍20多歲男性移工，今年2月9日來台工作，持有搭機前3日內檢驗陰性報告，入境後至集中檢疫所檢疫，2月22日接受檢疫期滿前採檢，結果為陰性。</td>\n                        <td id=\"T_a09a61d6_7ff0_11eb_be45_6c6a776380b6row3_col3\" class=\"data row3 col3\" >案961為菲律賓籍20多歲男性移工，今年2月9日來台工作，持有搭機前3日內檢驗陰性報告，入境後至集中檢疫所檢疫，2月22日接受檢疫期滿前採檢，結果為陰性，檢疫期滿後，由仲介安排至其他住所自主健康管理，2月26日搭乘專車至醫院自費採檢，因核酸檢測未確定，27日先行收治住院隔離，同日及3月2日進行核酸檢驗，於今日確診。</td>\n                        <td id=\"T_a09a61d6_7ff0_11eb_be45_6c6a776380b6row3_col4\" class=\"data row3 col4\" >0.516129</td>\n            </tr>\n            <tr>\n                                <td id=\"T_a09a61d6_7ff0_11eb_be45_6c6a776380b6row4_col0\" class=\"data row4 col0\" >4</td>\n                        <td id=\"T_a09a61d6_7ff0_11eb_be45_6c6a776380b6row4_col1\" class=\"data row4 col1\" >3</td>\n                        <td id=\"T_a09a61d6_7ff0_11eb_be45_6c6a776380b6row4_col2\" class=\"data row4 col2\" >個案檢疫期滿後，由仲介安排至其他住所自主健康管理，2月26日搭乘專車至醫院自費採檢，因核酸檢測未確定，27日先行收治住院隔離，同日及3月2日進行核酸檢驗，於今日確診。</td>\n                        <td id=\"T_a09a61d6_7ff0_11eb_be45_6c6a776380b6row4_col3\" class=\"data row4 col3\" >案961為菲律賓籍20多歲男性移工，今年2月9日來台工作，持有搭機前3日內檢驗陰性報告，入境後至集中檢疫所檢疫，2月22日接受檢疫期滿前採檢，結果為陰性，檢疫期滿後，由仲介安排至其他住所自主健康管理，2月26日搭乘專車至醫院自費採檢，因核酸檢測未確定，27日先行收治住院隔離，同日及3月2日進行核酸檢驗，於今日確診。</td>\n                        <td id=\"T_a09a61d6_7ff0_11eb_be45_6c6a776380b6row4_col4\" class=\"data row4 col4\" >0.483871</td>\n            </tr>\n            <tr>\n                                <td id=\"T_a09a61d6_7ff0_11eb_be45_6c6a776380b6row5_col0\" class=\"data row5 col0\" >5</td>\n                        <td id=\"T_a09a61d6_7ff0_11eb_be45_6c6a776380b6row5_col1\" class=\"data row5 col1\" >4</td>\n                        <td id=\"T_a09a61d6_7ff0_11eb_be45_6c6a776380b6row5_col2\" class=\"data row5 col2\" >個案入境至今無症狀，已掌握個案接觸者共9人，其中同車移工8人未確實佩戴口罩，列居家隔離，司機1人因有適當防護，列自主健康管理。</td>\n                        <td id=\"T_a09a61d6_7ff0_11eb_be45_6c6a776380b6row5_col3\" class=\"data row5 col3\" >該名個案入境至今無症狀，已掌握個案接觸者共9人，其中同車移工8人未確實佩戴口罩，列居家隔離，司機1人因有適當防護，列自主健康管理。</td>\n                        <td id=\"T_a09a61d6_7ff0_11eb_be45_6c6a776380b6row5_col4\" class=\"data row5 col4\" >0.044444</td>\n            </tr>\n            <tr>\n                                <td id=\"T_a09a61d6_7ff0_11eb_be45_6c6a776380b6row6_col0\" class=\"data row6 col0\" >6</td>\n                        <td id=\"T_a09a61d6_7ff0_11eb_be45_6c6a776380b6row6_col1\" class=\"data row6 col1\" >5</td>\n                        <td id=\"T_a09a61d6_7ff0_11eb_be45_6c6a776380b6row6_col2\" class=\"data row6 col2\" >指揮中心統計，截至目前國內累計960例確診，分別為844例境外移入，77例本土病例，36例敦睦艦隊、2例航空器感染及1例不明；另1例(案530)移除為空號。確診個案中9人死亡、928人解除隔離、23人住院隔離中。</td>\n                        <td id=\"T_a09a61d6_7ff0_11eb_be45_6c6a776380b6row6_col3\" class=\"data row6 col3\" >指揮中心統計，截至目前國內累計960例武漢肺炎，分別為844例境外移入，77例本土病例，36例敦睦艦隊、2例航空器感染及1例不明；另1例（案530）移除為空號。確診個案中9人死亡、928人解除隔離、23人住院隔離中。</td>\n                        <td id=\"T_a09a61d6_7ff0_11eb_be45_6c6a776380b6row6_col4\" class=\"data row6 col4\" >0.086957</td>\n            </tr>\n    </tbody></table>"
     },
     "metadata": {},
     "execution_count": 9
    }
   ],
   "source": [
    "# import distance\n",
    "from strsimpy.levenshtein import Levenshtein ## https://github.com/luozhouyang/python-string-similarity\n",
    "from strsimpy.normalized_levenshtein import NormalizedLevenshtein\n",
    "doc1_index = 0\n",
    "levenshtein = Levenshtein()\n",
    "normalized_levenshtein = NormalizedLevenshtein()\n",
    "d = []\n",
    "for ws in doc_ws[0]:\n",
    "    nlevenshtein=[]\n",
    "    doc2_index= 0\n",
    "    \n",
    "    for ws_x in doc_ws[1]:\n",
    "        \n",
    "        # print(doc1_index,text[0][doc1_index])\n",
    "        # print(doc2_index,text[1][doc2_index])  ## sentence & sentence pair compare\n",
    "        # print(\"Levenshtein\",distance.nlevenshtein(ws, ws_x))\n",
    "        # hamming needs the same length strings\n",
    "        \n",
    "        # nlevenshtein.append(levenshtein.distance(ws, ws_x)) #levenshtein\n",
    "        nlevenshtein.append(normalized_levenshtein.distance(ws, ws_x)) #normalized_levenshtein\n",
    "        \n",
    "\n",
    "        \n",
    "\n",
    "        \n",
    "        doc2_index+=1\n",
    "    d .append(\n",
    "        {\n",
    "            'document1_sentence id': doc1_index,\n",
    "            'document2_sentence id': nlevenshtein.index(min(nlevenshtein)),\n",
    "            'document1 content': text[0][doc1_index],\n",
    "            'document2 content': text[1][nlevenshtein.index(min(nlevenshtein))],\n",
    "            'normalized_levenshtein':  min(nlevenshtein)\n",
    "        }\n",
    "    )\n",
    "\n",
    "    # print(doc1_index,text[0][doc1_index])\n",
    "    # print(nlevenshtein.index(min(nlevenshtein)),text[1][nlevenshtein.index(min(nlevenshtein))])\n",
    "    # print(\"normalized_levenshtein\",min(nlevenshtein)) \n",
    "    doc1_index+=1\n",
    "pd.DataFrame(d)\n",
    "pd.DataFrame(d).style.hide_index()"
   ]
  },
  {
   "source": [
    "## 2. LongestCommonSubsequence & metric_lcs\n"
   ],
   "cell_type": "markdown",
   "metadata": {}
  },
  {
   "cell_type": "code",
   "execution_count": 10,
   "metadata": {},
   "outputs": [
    {
     "output_type": "execute_result",
     "data": {
      "text/plain": [
       "<pandas.io.formats.style.Styler at 0x27532c63340>"
      ],
      "text/html": "<style  type=\"text/css\" >\n</style><table id=\"T_a0a4f4bc_7ff0_11eb_a1e1_6c6a776380b6\" ><thead>    <tr>        <th class=\"col_heading level0 col0\" >document1_sentence id</th>        <th class=\"col_heading level0 col1\" >document2_sentence id</th>        <th class=\"col_heading level0 col2\" >document1 content</th>        <th class=\"col_heading level0 col3\" >document2 content</th>        <th class=\"col_heading level0 col4\" >metric_lcs</th>    </tr></thead><tbody>\n                <tr>\n                                <td id=\"T_a0a4f4bc_7ff0_11eb_a1e1_6c6a776380b6row0_col0\" class=\"data row0 col0\" >0</td>\n                        <td id=\"T_a0a4f4bc_7ff0_11eb_a1e1_6c6a776380b6row0_col1\" class=\"data row0 col1\" >0</td>\n                        <td id=\"T_a0a4f4bc_7ff0_11eb_a1e1_6c6a776380b6row0_col2\" class=\"data row0 col2\" >（台灣英文新聞／醫藥組　綜合報導）中央流行疫情指揮中心今(4)日公布國內新增2例武漢肺炎（COVID-19）境外移入確定病例(案960、961)，分別自奈及利亞及菲律賓入境。</td>\n                        <td id=\"T_a0a4f4bc_7ff0_11eb_a1e1_6c6a776380b6row0_col3\" class=\"data row0 col3\" >〔記者林惠琴／台北報導〕中央流行疫情指揮中心今日公布，武漢肺炎（新型冠狀病毒病，COVID-19）新增2例境外移入，分別自奈及利亞及菲律賓入境。</td>\n                        <td id=\"T_a0a4f4bc_7ff0_11eb_a1e1_6c6a776380b6row0_col4\" class=\"data row0 col4\" >0.521739</td>\n            </tr>\n            <tr>\n                                <td id=\"T_a0a4f4bc_7ff0_11eb_a1e1_6c6a776380b6row1_col0\" class=\"data row1 col0\" >1</td>\n                        <td id=\"T_a0a4f4bc_7ff0_11eb_a1e1_6c6a776380b6row1_col1\" class=\"data row1 col1\" >1</td>\n                        <td id=\"T_a0a4f4bc_7ff0_11eb_a1e1_6c6a776380b6row1_col2\" class=\"data row1 col2\" >指揮中心表示，案960為奈及利亞籍50多歲男性，長期居住台灣，並持有我國居留證，今(2021)年1月8日返回奈及利亞奔喪，在當地曾於1月18日出現輕微咳嗽，經自行服藥後症狀緩解。</td>\n                        <td id=\"T_a0a4f4bc_7ff0_11eb_a1e1_6c6a776380b6row1_col3\" class=\"data row1 col3\" >指揮中心發言人莊人祥表示，新增的案960為奈及利亞籍50多歲男性，長期居住台灣，並持有我國居留證，今年1月8日返回奈及利亞奔喪，在當地曾於1月18日出現輕微咳嗽，經自行服藥後症狀緩解。</td>\n                        <td id=\"T_a0a4f4bc_7ff0_11eb_a1e1_6c6a776380b6row1_col4\" class=\"data row1 col4\" >0.102041</td>\n            </tr>\n            <tr>\n                                <td id=\"T_a0a4f4bc_7ff0_11eb_a1e1_6c6a776380b6row2_col0\" class=\"data row2 col0\" >2</td>\n                        <td id=\"T_a0a4f4bc_7ff0_11eb_a1e1_6c6a776380b6row2_col1\" class=\"data row2 col1\" >2</td>\n                        <td id=\"T_a0a4f4bc_7ff0_11eb_a1e1_6c6a776380b6row2_col2\" class=\"data row2 col2\" >個案2月28日返台，持有搭機前3日內檢驗陰性報告，入境後至防疫旅館檢疫，3月2日因全身倦怠及有慢性病之就醫需求，由衛生單位安排就醫採檢，於今日確診。個案就醫時接觸之相關人員皆有適當防護，故無匡列接觸者。</td>\n                        <td id=\"T_a0a4f4bc_7ff0_11eb_a1e1_6c6a776380b6row2_col3\" class=\"data row2 col3\" >該名個案2月28日返台，持有搭機前3日內檢驗陰性報告，入境後至防疫旅館檢疫，3月2日因全身倦怠及有慢性病之就醫需求，由衛生單位安排就醫採檢，於今日確診。就醫時接觸相關人員皆有適當防護，無匡列接觸者。</td>\n                        <td id=\"T_a0a4f4bc_7ff0_11eb_a1e1_6c6a776380b6row2_col4\" class=\"data row2 col4\" >0.047619</td>\n            </tr>\n            <tr>\n                                <td id=\"T_a0a4f4bc_7ff0_11eb_a1e1_6c6a776380b6row3_col0\" class=\"data row3 col0\" >3</td>\n                        <td id=\"T_a0a4f4bc_7ff0_11eb_a1e1_6c6a776380b6row3_col1\" class=\"data row3 col1\" >3</td>\n                        <td id=\"T_a0a4f4bc_7ff0_11eb_a1e1_6c6a776380b6row3_col2\" class=\"data row3 col2\" >案961為菲律賓籍20多歲男性移工，今年2月9日來台工作，持有搭機前3日內檢驗陰性報告，入境後至集中檢疫所檢疫，2月22日接受檢疫期滿前採檢，結果為陰性。</td>\n                        <td id=\"T_a0a4f4bc_7ff0_11eb_a1e1_6c6a776380b6row3_col3\" class=\"data row3 col3\" >案961為菲律賓籍20多歲男性移工，今年2月9日來台工作，持有搭機前3日內檢驗陰性報告，入境後至集中檢疫所檢疫，2月22日接受檢疫期滿前採檢，結果為陰性，檢疫期滿後，由仲介安排至其他住所自主健康管理，2月26日搭乘專車至醫院自費採檢，因核酸檢測未確定，27日先行收治住院隔離，同日及3月2日進行核酸檢驗，於今日確診。</td>\n                        <td id=\"T_a0a4f4bc_7ff0_11eb_a1e1_6c6a776380b6row3_col4\" class=\"data row3 col4\" >0.516129</td>\n            </tr>\n            <tr>\n                                <td id=\"T_a0a4f4bc_7ff0_11eb_a1e1_6c6a776380b6row4_col0\" class=\"data row4 col0\" >4</td>\n                        <td id=\"T_a0a4f4bc_7ff0_11eb_a1e1_6c6a776380b6row4_col1\" class=\"data row4 col1\" >3</td>\n                        <td id=\"T_a0a4f4bc_7ff0_11eb_a1e1_6c6a776380b6row4_col2\" class=\"data row4 col2\" >個案檢疫期滿後，由仲介安排至其他住所自主健康管理，2月26日搭乘專車至醫院自費採檢，因核酸檢測未確定，27日先行收治住院隔離，同日及3月2日進行核酸檢驗，於今日確診。</td>\n                        <td id=\"T_a0a4f4bc_7ff0_11eb_a1e1_6c6a776380b6row4_col3\" class=\"data row4 col3\" >案961為菲律賓籍20多歲男性移工，今年2月9日來台工作，持有搭機前3日內檢驗陰性報告，入境後至集中檢疫所檢疫，2月22日接受檢疫期滿前採檢，結果為陰性，檢疫期滿後，由仲介安排至其他住所自主健康管理，2月26日搭乘專車至醫院自費採檢，因核酸檢測未確定，27日先行收治住院隔離，同日及3月2日進行核酸檢驗，於今日確診。</td>\n                        <td id=\"T_a0a4f4bc_7ff0_11eb_a1e1_6c6a776380b6row4_col4\" class=\"data row4 col4\" >0.483871</td>\n            </tr>\n            <tr>\n                                <td id=\"T_a0a4f4bc_7ff0_11eb_a1e1_6c6a776380b6row5_col0\" class=\"data row5 col0\" >5</td>\n                        <td id=\"T_a0a4f4bc_7ff0_11eb_a1e1_6c6a776380b6row5_col1\" class=\"data row5 col1\" >4</td>\n                        <td id=\"T_a0a4f4bc_7ff0_11eb_a1e1_6c6a776380b6row5_col2\" class=\"data row5 col2\" >個案入境至今無症狀，已掌握個案接觸者共9人，其中同車移工8人未確實佩戴口罩，列居家隔離，司機1人因有適當防護，列自主健康管理。</td>\n                        <td id=\"T_a0a4f4bc_7ff0_11eb_a1e1_6c6a776380b6row5_col3\" class=\"data row5 col3\" >該名個案入境至今無症狀，已掌握個案接觸者共9人，其中同車移工8人未確實佩戴口罩，列居家隔離，司機1人因有適當防護，列自主健康管理。</td>\n                        <td id=\"T_a0a4f4bc_7ff0_11eb_a1e1_6c6a776380b6row5_col4\" class=\"data row5 col4\" >0.044444</td>\n            </tr>\n            <tr>\n                                <td id=\"T_a0a4f4bc_7ff0_11eb_a1e1_6c6a776380b6row6_col0\" class=\"data row6 col0\" >6</td>\n                        <td id=\"T_a0a4f4bc_7ff0_11eb_a1e1_6c6a776380b6row6_col1\" class=\"data row6 col1\" >5</td>\n                        <td id=\"T_a0a4f4bc_7ff0_11eb_a1e1_6c6a776380b6row6_col2\" class=\"data row6 col2\" >指揮中心統計，截至目前國內累計960例確診，分別為844例境外移入，77例本土病例，36例敦睦艦隊、2例航空器感染及1例不明；另1例(案530)移除為空號。確診個案中9人死亡、928人解除隔離、23人住院隔離中。</td>\n                        <td id=\"T_a0a4f4bc_7ff0_11eb_a1e1_6c6a776380b6row6_col3\" class=\"data row6 col3\" >指揮中心統計，截至目前國內累計960例武漢肺炎，分別為844例境外移入，77例本土病例，36例敦睦艦隊、2例航空器感染及1例不明；另1例（案530）移除為空號。確診個案中9人死亡、928人解除隔離、23人住院隔離中。</td>\n                        <td id=\"T_a0a4f4bc_7ff0_11eb_a1e1_6c6a776380b6row6_col4\" class=\"data row6 col4\" >0.086957</td>\n            </tr>\n    </tbody></table>"
     },
     "metadata": {},
     "execution_count": 10
    }
   ],
   "source": [
    "from strsimpy.longest_common_subsequence import LongestCommonSubsequence\n",
    "from strsimpy.metric_lcs import MetricLCS\n",
    "lcs = LongestCommonSubsequence()\n",
    "metric_lcs = MetricLCS()\n",
    "##1 - |LCS(s1, s2)| / max(|s1|, |s2|)\n",
    "doc1_index = 0\n",
    "d= []\n",
    "for ws in doc_ws[0]:\n",
    "    LCS=[]\n",
    "    doc2_index= 0\n",
    "    for ws_x in doc_ws[1]:\n",
    "        \n",
    "        # print(doc1_index,text[0][doc1_index])\n",
    "        # print(doc2_index,text[1][doc2_index])  ## sentence & sentence pair compare\n",
    "        # print(\"Levenshtein\",distance.nlevenshtein(ws, ws_x))\n",
    "        # hamming needs the same length strings\n",
    " \n",
    "    \n",
    "        # LCS.append(lcs.distance(ws, ws_x)) #LCS\n",
    "        LCS.append(metric_lcs.distance(ws, ws_x)) #metric_lcs\n",
    "        # print(metric_lcs.distance(s1, s2))\n",
    "        doc2_index+=1\n",
    "    d.append(\n",
    "        {\n",
    "            'document1_sentence id': doc1_index,\n",
    "            'document2_sentence id': LCS.index(min(LCS)),\n",
    "            'document1 content': text[0][doc1_index],\n",
    "            'document2 content': text[1][LCS.index(min(LCS))],\n",
    "            'metric_lcs': min(LCS),\n",
    "            \n",
    "        }\n",
    "    )\n",
    "    # print(doc1_index,text[0][doc1_index])\n",
    "    # print(LCS.index(min(LCS)),text[1][LCS.index(min(LCS))])\n",
    "    # print(\"metric_lcs\",min(LCS)) \n",
    "    doc1_index+=1\n",
    "pd.DataFrame(d)\n",
    "pd.DataFrame(d).style.hide_index()"
   ]
  },
  {
   "source": [
    "## 3. Jaccard coefficient\n"
   ],
   "cell_type": "markdown",
   "metadata": {}
  },
  {
   "cell_type": "code",
   "execution_count": 11,
   "metadata": {},
   "outputs": [
    {
     "output_type": "execute_result",
     "data": {
      "text/plain": [
       "<pandas.io.formats.style.Styler at 0x275176dc340>"
      ],
      "text/html": "<style  type=\"text/css\" >\n</style><table id=\"T_a0a7a2fe_7ff0_11eb_ac1a_6c6a776380b6\" ><thead>    <tr>        <th class=\"col_heading level0 col0\" >document1_sentence id</th>        <th class=\"col_heading level0 col1\" >document2_sentence id</th>        <th class=\"col_heading level0 col2\" >document1 content</th>        <th class=\"col_heading level0 col3\" >document2 content</th>        <th class=\"col_heading level0 col4\" >jaccard_coefficient</th>    </tr></thead><tbody>\n                <tr>\n                                <td id=\"T_a0a7a2fe_7ff0_11eb_ac1a_6c6a776380b6row0_col0\" class=\"data row0 col0\" >0</td>\n                        <td id=\"T_a0a7a2fe_7ff0_11eb_ac1a_6c6a776380b6row0_col1\" class=\"data row0 col1\" >0</td>\n                        <td id=\"T_a0a7a2fe_7ff0_11eb_ac1a_6c6a776380b6row0_col2\" class=\"data row0 col2\" >（台灣英文新聞／醫藥組　綜合報導）中央流行疫情指揮中心今(4)日公布國內新增2例武漢肺炎（COVID-19）境外移入確定病例(案960、961)，分別自奈及利亞及菲律賓入境。</td>\n                        <td id=\"T_a0a7a2fe_7ff0_11eb_ac1a_6c6a776380b6row0_col3\" class=\"data row0 col3\" >〔記者林惠琴／台北報導〕中央流行疫情指揮中心今日公布，武漢肺炎（新型冠狀病毒病，COVID-19）新增2例境外移入，分別自奈及利亞及菲律賓入境。</td>\n                        <td id=\"T_a0a7a2fe_7ff0_11eb_ac1a_6c6a776380b6row0_col4\" class=\"data row0 col4\" >0.462963</td>\n            </tr>\n            <tr>\n                                <td id=\"T_a0a7a2fe_7ff0_11eb_ac1a_6c6a776380b6row1_col0\" class=\"data row1 col0\" >1</td>\n                        <td id=\"T_a0a7a2fe_7ff0_11eb_ac1a_6c6a776380b6row1_col1\" class=\"data row1 col1\" >1</td>\n                        <td id=\"T_a0a7a2fe_7ff0_11eb_ac1a_6c6a776380b6row1_col2\" class=\"data row1 col2\" >指揮中心表示，案960為奈及利亞籍50多歲男性，長期居住台灣，並持有我國居留證，今(2021)年1月8日返回奈及利亞奔喪，在當地曾於1月18日出現輕微咳嗽，經自行服藥後症狀緩解。</td>\n                        <td id=\"T_a0a7a2fe_7ff0_11eb_ac1a_6c6a776380b6row1_col3\" class=\"data row1 col3\" >指揮中心發言人莊人祥表示，新增的案960為奈及利亞籍50多歲男性，長期居住台灣，並持有我國居留證，今年1月8日返回奈及利亞奔喪，在當地曾於1月18日出現輕微咳嗽，經自行服藥後症狀緩解。</td>\n                        <td id=\"T_a0a7a2fe_7ff0_11eb_ac1a_6c6a776380b6row1_col4\" class=\"data row1 col4\" >0.808511</td>\n            </tr>\n            <tr>\n                                <td id=\"T_a0a7a2fe_7ff0_11eb_ac1a_6c6a776380b6row2_col0\" class=\"data row2 col0\" >2</td>\n                        <td id=\"T_a0a7a2fe_7ff0_11eb_ac1a_6c6a776380b6row2_col1\" class=\"data row2 col1\" >2</td>\n                        <td id=\"T_a0a7a2fe_7ff0_11eb_ac1a_6c6a776380b6row2_col2\" class=\"data row2 col2\" >個案2月28日返台，持有搭機前3日內檢驗陰性報告，入境後至防疫旅館檢疫，3月2日因全身倦怠及有慢性病之就醫需求，由衛生單位安排就醫採檢，於今日確診。個案就醫時接觸之相關人員皆有適當防護，故無匡列接觸者。</td>\n                        <td id=\"T_a0a7a2fe_7ff0_11eb_ac1a_6c6a776380b6row2_col3\" class=\"data row2 col3\" >該名個案2月28日返台，持有搭機前3日內檢驗陰性報告，入境後至防疫旅館檢疫，3月2日因全身倦怠及有慢性病之就醫需求，由衛生單位安排就醫採檢，於今日確診。就醫時接觸相關人員皆有適當防護，無匡列接觸者。</td>\n                        <td id=\"T_a0a7a2fe_7ff0_11eb_ac1a_6c6a776380b6row2_col4\" class=\"data row2 col4\" >0.943396</td>\n            </tr>\n            <tr>\n                                <td id=\"T_a0a7a2fe_7ff0_11eb_ac1a_6c6a776380b6row3_col0\" class=\"data row3 col0\" >3</td>\n                        <td id=\"T_a0a7a2fe_7ff0_11eb_ac1a_6c6a776380b6row3_col1\" class=\"data row3 col1\" >3</td>\n                        <td id=\"T_a0a7a2fe_7ff0_11eb_ac1a_6c6a776380b6row3_col2\" class=\"data row3 col2\" >案961為菲律賓籍20多歲男性移工，今年2月9日來台工作，持有搭機前3日內檢驗陰性報告，入境後至集中檢疫所檢疫，2月22日接受檢疫期滿前採檢，結果為陰性。</td>\n                        <td id=\"T_a0a7a2fe_7ff0_11eb_ac1a_6c6a776380b6row3_col3\" class=\"data row3 col3\" >案961為菲律賓籍20多歲男性移工，今年2月9日來台工作，持有搭機前3日內檢驗陰性報告，入境後至集中檢疫所檢疫，2月22日接受檢疫期滿前採檢，結果為陰性，檢疫期滿後，由仲介安排至其他住所自主健康管理，2月26日搭乘專車至醫院自費採檢，因核酸檢測未確定，27日先行收治住院隔離，同日及3月2日進行核酸檢驗，於今日確診。</td>\n                        <td id=\"T_a0a7a2fe_7ff0_11eb_ac1a_6c6a776380b6row3_col4\" class=\"data row3 col4\" >0.537313</td>\n            </tr>\n            <tr>\n                                <td id=\"T_a0a7a2fe_7ff0_11eb_ac1a_6c6a776380b6row4_col0\" class=\"data row4 col0\" >4</td>\n                        <td id=\"T_a0a7a2fe_7ff0_11eb_ac1a_6c6a776380b6row4_col1\" class=\"data row4 col1\" >3</td>\n                        <td id=\"T_a0a7a2fe_7ff0_11eb_ac1a_6c6a776380b6row4_col2\" class=\"data row4 col2\" >個案檢疫期滿後，由仲介安排至其他住所自主健康管理，2月26日搭乘專車至醫院自費採檢，因核酸檢測未確定，27日先行收治住院隔離，同日及3月2日進行核酸檢驗，於今日確診。</td>\n                        <td id=\"T_a0a7a2fe_7ff0_11eb_ac1a_6c6a776380b6row4_col3\" class=\"data row4 col3\" >案961為菲律賓籍20多歲男性移工，今年2月9日來台工作，持有搭機前3日內檢驗陰性報告，入境後至集中檢疫所檢疫，2月22日接受檢疫期滿前採檢，結果為陰性，檢疫期滿後，由仲介安排至其他住所自主健康管理，2月26日搭乘專車至醫院自費採檢，因核酸檢測未確定，27日先行收治住院隔離，同日及3月2日進行核酸檢驗，於今日確診。</td>\n                        <td id=\"T_a0a7a2fe_7ff0_11eb_ac1a_6c6a776380b6row4_col4\" class=\"data row4 col4\" >0.602941</td>\n            </tr>\n            <tr>\n                                <td id=\"T_a0a7a2fe_7ff0_11eb_ac1a_6c6a776380b6row5_col0\" class=\"data row5 col0\" >5</td>\n                        <td id=\"T_a0a7a2fe_7ff0_11eb_ac1a_6c6a776380b6row5_col1\" class=\"data row5 col1\" >4</td>\n                        <td id=\"T_a0a7a2fe_7ff0_11eb_ac1a_6c6a776380b6row5_col2\" class=\"data row5 col2\" >個案入境至今無症狀，已掌握個案接觸者共9人，其中同車移工8人未確實佩戴口罩，列居家隔離，司機1人因有適當防護，列自主健康管理。</td>\n                        <td id=\"T_a0a7a2fe_7ff0_11eb_ac1a_6c6a776380b6row5_col3\" class=\"data row5 col3\" >該名個案入境至今無症狀，已掌握個案接觸者共9人，其中同車移工8人未確實佩戴口罩，列居家隔離，司機1人因有適當防護，列自主健康管理。</td>\n                        <td id=\"T_a0a7a2fe_7ff0_11eb_ac1a_6c6a776380b6row5_col4\" class=\"data row5 col4\" >0.945946</td>\n            </tr>\n            <tr>\n                                <td id=\"T_a0a7a2fe_7ff0_11eb_ac1a_6c6a776380b6row6_col0\" class=\"data row6 col0\" >6</td>\n                        <td id=\"T_a0a7a2fe_7ff0_11eb_ac1a_6c6a776380b6row6_col1\" class=\"data row6 col1\" >5</td>\n                        <td id=\"T_a0a7a2fe_7ff0_11eb_ac1a_6c6a776380b6row6_col2\" class=\"data row6 col2\" >指揮中心統計，截至目前國內累計960例確診，分別為844例境外移入，77例本土病例，36例敦睦艦隊、2例航空器感染及1例不明；另1例(案530)移除為空號。確診個案中9人死亡、928人解除隔離、23人住院隔離中。</td>\n                        <td id=\"T_a0a7a2fe_7ff0_11eb_ac1a_6c6a776380b6row6_col3\" class=\"data row6 col3\" >指揮中心統計，截至目前國內累計960例武漢肺炎，分別為844例境外移入，77例本土病例，36例敦睦艦隊、2例航空器感染及1例不明；另1例（案530）移除為空號。確診個案中9人死亡、928人解除隔離、23人住院隔離中。</td>\n                        <td id=\"T_a0a7a2fe_7ff0_11eb_ac1a_6c6a776380b6row6_col4\" class=\"data row6 col4\" >0.851852</td>\n            </tr>\n    </tbody></table>"
     },
     "metadata": {},
     "execution_count": 11
    }
   ],
   "source": [
    "## jaccard\n",
    "\n",
    "def Jaccrad(doc1, doc2):#terms_reference为源句子，terms_model为候选句子\n",
    "    doc1 = set(doc1)\n",
    "    doc2 = set(doc2)\n",
    "    temp=0\n",
    "    for i in doc1:\n",
    "        if i in doc2:\n",
    "            temp=temp+1\n",
    "    fenmu=len(doc2)+len(doc1)-temp #聯集\n",
    "    jaccard_coefficient=float(temp/fenmu)#交集\n",
    "    return jaccard_coefficient\n",
    "doc1_index = 0\n",
    "d = []\n",
    "for ws in doc_ws[0]:\n",
    "    jaccard_=[]\n",
    "    doc2_index= 0\n",
    "    for ws_x in doc_ws[1]:\n",
    "        \n",
    "\n",
    "        jaccard_.append(Jaccrad(ws, ws_x)) #jaccard\n",
    "        doc2_index+=1\n",
    "    d.append(\n",
    "        {\n",
    "            'document1_sentence id': doc1_index,\n",
    "            'document2_sentence id': jaccard_.index(max(jaccard_)),\n",
    "            'document1 content': text[0][doc1_index],\n",
    "            'document2 content': text[1][jaccard_.index(max(jaccard_))],\n",
    "            'jaccard_coefficient': max(jaccard_),\n",
    "            \n",
    "        }\n",
    "    )\n",
    "    # print(doc1_index,text[0][doc1_index])\n",
    "    # print(jaccard_.index(max(jaccard_)),text[1][jaccard_.index(max(jaccard_))])\n",
    "    # print(\"jaccard_coefficient\",max(jaccard_)) \n",
    "    doc1_index+=1\n",
    "\n",
    "pd.DataFrame(d)\n",
    "pd.DataFrame(d).style.hide_index()"
   ]
  },
  {
   "source": [
    "## 4. Dice coefficient\n"
   ],
   "cell_type": "markdown",
   "metadata": {}
  },
  {
   "cell_type": "code",
   "execution_count": 12,
   "metadata": {},
   "outputs": [
    {
     "output_type": "execute_result",
     "data": {
      "text/plain": [
       "<pandas.io.formats.style.Styler at 0x275176dccd0>"
      ],
      "text/html": "<style  type=\"text/css\" >\n</style><table id=\"T_a0a9dee2_7ff0_11eb_bdcf_6c6a776380b6\" ><thead>    <tr>        <th class=\"col_heading level0 col0\" >document1_sentence id</th>        <th class=\"col_heading level0 col1\" >document2_sentence id</th>        <th class=\"col_heading level0 col2\" >document1 content</th>        <th class=\"col_heading level0 col3\" >document2 content</th>        <th class=\"col_heading level0 col4\" >dice_coefficient</th>    </tr></thead><tbody>\n                <tr>\n                                <td id=\"T_a0a9dee2_7ff0_11eb_bdcf_6c6a776380b6row0_col0\" class=\"data row0 col0\" >0</td>\n                        <td id=\"T_a0a9dee2_7ff0_11eb_bdcf_6c6a776380b6row0_col1\" class=\"data row0 col1\" >0</td>\n                        <td id=\"T_a0a9dee2_7ff0_11eb_bdcf_6c6a776380b6row0_col2\" class=\"data row0 col2\" >（台灣英文新聞／醫藥組　綜合報導）中央流行疫情指揮中心今(4)日公布國內新增2例武漢肺炎（COVID-19）境外移入確定病例(案960、961)，分別自奈及利亞及菲律賓入境。</td>\n                        <td id=\"T_a0a9dee2_7ff0_11eb_bdcf_6c6a776380b6row0_col3\" class=\"data row0 col3\" >〔記者林惠琴／台北報導〕中央流行疫情指揮中心今日公布，武漢肺炎（新型冠狀病毒病，COVID-19）新增2例境外移入，分別自奈及利亞及菲律賓入境。</td>\n                        <td id=\"T_a0a9dee2_7ff0_11eb_bdcf_6c6a776380b6row0_col4\" class=\"data row0 col4\" >0.632911</td>\n            </tr>\n            <tr>\n                                <td id=\"T_a0a9dee2_7ff0_11eb_bdcf_6c6a776380b6row1_col0\" class=\"data row1 col0\" >1</td>\n                        <td id=\"T_a0a9dee2_7ff0_11eb_bdcf_6c6a776380b6row1_col1\" class=\"data row1 col1\" >1</td>\n                        <td id=\"T_a0a9dee2_7ff0_11eb_bdcf_6c6a776380b6row1_col2\" class=\"data row1 col2\" >指揮中心表示，案960為奈及利亞籍50多歲男性，長期居住台灣，並持有我國居留證，今(2021)年1月8日返回奈及利亞奔喪，在當地曾於1月18日出現輕微咳嗽，經自行服藥後症狀緩解。</td>\n                        <td id=\"T_a0a9dee2_7ff0_11eb_bdcf_6c6a776380b6row1_col3\" class=\"data row1 col3\" >指揮中心發言人莊人祥表示，新增的案960為奈及利亞籍50多歲男性，長期居住台灣，並持有我國居留證，今年1月8日返回奈及利亞奔喪，在當地曾於1月18日出現輕微咳嗽，經自行服藥後症狀緩解。</td>\n                        <td id=\"T_a0a9dee2_7ff0_11eb_bdcf_6c6a776380b6row1_col4\" class=\"data row1 col4\" >0.894118</td>\n            </tr>\n            <tr>\n                                <td id=\"T_a0a9dee2_7ff0_11eb_bdcf_6c6a776380b6row2_col0\" class=\"data row2 col0\" >2</td>\n                        <td id=\"T_a0a9dee2_7ff0_11eb_bdcf_6c6a776380b6row2_col1\" class=\"data row2 col1\" >2</td>\n                        <td id=\"T_a0a9dee2_7ff0_11eb_bdcf_6c6a776380b6row2_col2\" class=\"data row2 col2\" >個案2月28日返台，持有搭機前3日內檢驗陰性報告，入境後至防疫旅館檢疫，3月2日因全身倦怠及有慢性病之就醫需求，由衛生單位安排就醫採檢，於今日確診。個案就醫時接觸之相關人員皆有適當防護，故無匡列接觸者。</td>\n                        <td id=\"T_a0a9dee2_7ff0_11eb_bdcf_6c6a776380b6row2_col3\" class=\"data row2 col3\" >該名個案2月28日返台，持有搭機前3日內檢驗陰性報告，入境後至防疫旅館檢疫，3月2日因全身倦怠及有慢性病之就醫需求，由衛生單位安排就醫採檢，於今日確診。就醫時接觸相關人員皆有適當防護，無匡列接觸者。</td>\n                        <td id=\"T_a0a9dee2_7ff0_11eb_bdcf_6c6a776380b6row2_col4\" class=\"data row2 col4\" >0.970874</td>\n            </tr>\n            <tr>\n                                <td id=\"T_a0a9dee2_7ff0_11eb_bdcf_6c6a776380b6row3_col0\" class=\"data row3 col0\" >3</td>\n                        <td id=\"T_a0a9dee2_7ff0_11eb_bdcf_6c6a776380b6row3_col1\" class=\"data row3 col1\" >3</td>\n                        <td id=\"T_a0a9dee2_7ff0_11eb_bdcf_6c6a776380b6row3_col2\" class=\"data row3 col2\" >案961為菲律賓籍20多歲男性移工，今年2月9日來台工作，持有搭機前3日內檢驗陰性報告，入境後至集中檢疫所檢疫，2月22日接受檢疫期滿前採檢，結果為陰性。</td>\n                        <td id=\"T_a0a9dee2_7ff0_11eb_bdcf_6c6a776380b6row3_col3\" class=\"data row3 col3\" >案961為菲律賓籍20多歲男性移工，今年2月9日來台工作，持有搭機前3日內檢驗陰性報告，入境後至集中檢疫所檢疫，2月22日接受檢疫期滿前採檢，結果為陰性，檢疫期滿後，由仲介安排至其他住所自主健康管理，2月26日搭乘專車至醫院自費採檢，因核酸檢測未確定，27日先行收治住院隔離，同日及3月2日進行核酸檢驗，於今日確診。</td>\n                        <td id=\"T_a0a9dee2_7ff0_11eb_bdcf_6c6a776380b6row3_col4\" class=\"data row3 col4\" >0.699029</td>\n            </tr>\n            <tr>\n                                <td id=\"T_a0a9dee2_7ff0_11eb_bdcf_6c6a776380b6row4_col0\" class=\"data row4 col0\" >4</td>\n                        <td id=\"T_a0a9dee2_7ff0_11eb_bdcf_6c6a776380b6row4_col1\" class=\"data row4 col1\" >3</td>\n                        <td id=\"T_a0a9dee2_7ff0_11eb_bdcf_6c6a776380b6row4_col2\" class=\"data row4 col2\" >個案檢疫期滿後，由仲介安排至其他住所自主健康管理，2月26日搭乘專車至醫院自費採檢，因核酸檢測未確定，27日先行收治住院隔離，同日及3月2日進行核酸檢驗，於今日確診。</td>\n                        <td id=\"T_a0a9dee2_7ff0_11eb_bdcf_6c6a776380b6row4_col3\" class=\"data row4 col3\" >案961為菲律賓籍20多歲男性移工，今年2月9日來台工作，持有搭機前3日內檢驗陰性報告，入境後至集中檢疫所檢疫，2月22日接受檢疫期滿前採檢，結果為陰性，檢疫期滿後，由仲介安排至其他住所自主健康管理，2月26日搭乘專車至醫院自費採檢，因核酸檢測未確定，27日先行收治住院隔離，同日及3月2日進行核酸檢驗，於今日確診。</td>\n                        <td id=\"T_a0a9dee2_7ff0_11eb_bdcf_6c6a776380b6row4_col4\" class=\"data row4 col4\" >0.752294</td>\n            </tr>\n            <tr>\n                                <td id=\"T_a0a9dee2_7ff0_11eb_bdcf_6c6a776380b6row5_col0\" class=\"data row5 col0\" >5</td>\n                        <td id=\"T_a0a9dee2_7ff0_11eb_bdcf_6c6a776380b6row5_col1\" class=\"data row5 col1\" >4</td>\n                        <td id=\"T_a0a9dee2_7ff0_11eb_bdcf_6c6a776380b6row5_col2\" class=\"data row5 col2\" >個案入境至今無症狀，已掌握個案接觸者共9人，其中同車移工8人未確實佩戴口罩，列居家隔離，司機1人因有適當防護，列自主健康管理。</td>\n                        <td id=\"T_a0a9dee2_7ff0_11eb_bdcf_6c6a776380b6row5_col3\" class=\"data row5 col3\" >該名個案入境至今無症狀，已掌握個案接觸者共9人，其中同車移工8人未確實佩戴口罩，列居家隔離，司機1人因有適當防護，列自主健康管理。</td>\n                        <td id=\"T_a0a9dee2_7ff0_11eb_bdcf_6c6a776380b6row5_col4\" class=\"data row5 col4\" >0.972222</td>\n            </tr>\n            <tr>\n                                <td id=\"T_a0a9dee2_7ff0_11eb_bdcf_6c6a776380b6row6_col0\" class=\"data row6 col0\" >6</td>\n                        <td id=\"T_a0a9dee2_7ff0_11eb_bdcf_6c6a776380b6row6_col1\" class=\"data row6 col1\" >5</td>\n                        <td id=\"T_a0a9dee2_7ff0_11eb_bdcf_6c6a776380b6row6_col2\" class=\"data row6 col2\" >指揮中心統計，截至目前國內累計960例確診，分別為844例境外移入，77例本土病例，36例敦睦艦隊、2例航空器感染及1例不明；另1例(案530)移除為空號。確診個案中9人死亡、928人解除隔離、23人住院隔離中。</td>\n                        <td id=\"T_a0a9dee2_7ff0_11eb_bdcf_6c6a776380b6row6_col3\" class=\"data row6 col3\" >指揮中心統計，截至目前國內累計960例武漢肺炎，分別為844例境外移入，77例本土病例，36例敦睦艦隊、2例航空器感染及1例不明；另1例（案530）移除為空號。確診個案中9人死亡、928人解除隔離、23人住院隔離中。</td>\n                        <td id=\"T_a0a9dee2_7ff0_11eb_bdcf_6c6a776380b6row6_col4\" class=\"data row6 col4\" >0.920000</td>\n            </tr>\n    </tbody></table>"
     },
     "metadata": {},
     "execution_count": 12
    }
   ],
   "source": [
    "## dice\n",
    "\n",
    "def Dice(doc1, doc2):\n",
    "    doc1 = set(doc1)\n",
    "    doc2 = set(doc2)\n",
    "    temp=0\n",
    "    for i in doc1:\n",
    "        if i in doc2:\n",
    "            temp=temp+1\n",
    "    dice_coefficient=float(2*temp/(len(doc2)+len(doc1)))#交集\n",
    "    return dice_coefficient\n",
    "doc1_index = 0\n",
    "d= []\n",
    "for ws in doc_ws[0]:\n",
    "    dice_=[]\n",
    "    doc2_index= 0\n",
    "    for ws_x in doc_ws[1]:\n",
    "        \n",
    "\n",
    "        dice_.append(Dice(ws, ws_x)) #dice\n",
    "        doc2_index+=1\n",
    "    \n",
    "    d.append(\n",
    "        {\n",
    "            'document1_sentence id': doc1_index,\n",
    "            'document2_sentence id': dice_.index(max(dice_)),\n",
    "            'document1 content': text[0][doc1_index],\n",
    "            'document2 content': text[1][dice_.index(max(dice_))],\n",
    "            'dice_coefficient': max(dice_),\n",
    "            \n",
    "        }\n",
    "    )\n",
    "\n",
    "    # print(doc1_index,text[0][doc1_index])\n",
    "    # print(dice_.index(max(dice_)),text[1][dice_.index(max(dice_))])\n",
    "    # print(\"dice_coefficient\",max(dice_)) \n",
    "    doc1_index+=1\n",
    "\n",
    "\n",
    "pd.DataFrame(d)\n",
    "pd.DataFrame(d).style.hide_index()"
   ]
  },
  {
   "source": [
    "## 5. Overlap coefficient"
   ],
   "cell_type": "markdown",
   "metadata": {}
  },
  {
   "cell_type": "code",
   "execution_count": 13,
   "metadata": {},
   "outputs": [
    {
     "output_type": "execute_result",
     "data": {
      "text/plain": [
       "<pandas.io.formats.style.Styler at 0x2754d3b5910>"
      ],
      "text/html": "<style  type=\"text/css\" >\n</style><table id=\"T_a0ac40e0_7ff0_11eb_b165_6c6a776380b6\" ><thead>    <tr>        <th class=\"col_heading level0 col0\" >document1_sentence id</th>        <th class=\"col_heading level0 col1\" >document2_sentence id</th>        <th class=\"col_heading level0 col2\" >document1 content</th>        <th class=\"col_heading level0 col3\" >document2 content</th>        <th class=\"col_heading level0 col4\" >overlap_coefficient</th>    </tr></thead><tbody>\n                <tr>\n                                <td id=\"T_a0ac40e0_7ff0_11eb_b165_6c6a776380b6row0_col0\" class=\"data row0 col0\" >0</td>\n                        <td id=\"T_a0ac40e0_7ff0_11eb_b165_6c6a776380b6row0_col1\" class=\"data row0 col1\" >0</td>\n                        <td id=\"T_a0ac40e0_7ff0_11eb_b165_6c6a776380b6row0_col2\" class=\"data row0 col2\" >（台灣英文新聞／醫藥組　綜合報導）中央流行疫情指揮中心今(4)日公布國內新增2例武漢肺炎（COVID-19）境外移入確定病例(案960、961)，分別自奈及利亞及菲律賓入境。</td>\n                        <td id=\"T_a0ac40e0_7ff0_11eb_b165_6c6a776380b6row0_col3\" class=\"data row0 col3\" >〔記者林惠琴／台北報導〕中央流行疫情指揮中心今日公布，武漢肺炎（新型冠狀病毒病，COVID-19）新增2例境外移入，分別自奈及利亞及菲律賓入境。</td>\n                        <td id=\"T_a0ac40e0_7ff0_11eb_b165_6c6a776380b6row0_col4\" class=\"data row0 col4\" >0.714286</td>\n            </tr>\n            <tr>\n                                <td id=\"T_a0ac40e0_7ff0_11eb_b165_6c6a776380b6row1_col0\" class=\"data row1 col0\" >1</td>\n                        <td id=\"T_a0ac40e0_7ff0_11eb_b165_6c6a776380b6row1_col1\" class=\"data row1 col1\" >1</td>\n                        <td id=\"T_a0ac40e0_7ff0_11eb_b165_6c6a776380b6row1_col2\" class=\"data row1 col2\" >指揮中心表示，案960為奈及利亞籍50多歲男性，長期居住台灣，並持有我國居留證，今(2021)年1月8日返回奈及利亞奔喪，在當地曾於1月18日出現輕微咳嗽，經自行服藥後症狀緩解。</td>\n                        <td id=\"T_a0ac40e0_7ff0_11eb_b165_6c6a776380b6row1_col3\" class=\"data row1 col3\" >指揮中心發言人莊人祥表示，新增的案960為奈及利亞籍50多歲男性，長期居住台灣，並持有我國居留證，今年1月8日返回奈及利亞奔喪，在當地曾於1月18日出現輕微咳嗽，經自行服藥後症狀緩解。</td>\n                        <td id=\"T_a0ac40e0_7ff0_11eb_b165_6c6a776380b6row1_col4\" class=\"data row1 col4\" >0.904762</td>\n            </tr>\n            <tr>\n                                <td id=\"T_a0ac40e0_7ff0_11eb_b165_6c6a776380b6row2_col0\" class=\"data row2 col0\" >2</td>\n                        <td id=\"T_a0ac40e0_7ff0_11eb_b165_6c6a776380b6row2_col1\" class=\"data row2 col1\" >2</td>\n                        <td id=\"T_a0ac40e0_7ff0_11eb_b165_6c6a776380b6row2_col2\" class=\"data row2 col2\" >個案2月28日返台，持有搭機前3日內檢驗陰性報告，入境後至防疫旅館檢疫，3月2日因全身倦怠及有慢性病之就醫需求，由衛生單位安排就醫採檢，於今日確診。個案就醫時接觸之相關人員皆有適當防護，故無匡列接觸者。</td>\n                        <td id=\"T_a0ac40e0_7ff0_11eb_b165_6c6a776380b6row2_col3\" class=\"data row2 col3\" >該名個案2月28日返台，持有搭機前3日內檢驗陰性報告，入境後至防疫旅館檢疫，3月2日因全身倦怠及有慢性病之就醫需求，由衛生單位安排就醫採檢，於今日確診。就醫時接觸相關人員皆有適當防護，無匡列接觸者。</td>\n                        <td id=\"T_a0ac40e0_7ff0_11eb_b165_6c6a776380b6row2_col4\" class=\"data row2 col4\" >0.980392</td>\n            </tr>\n            <tr>\n                                <td id=\"T_a0ac40e0_7ff0_11eb_b165_6c6a776380b6row3_col0\" class=\"data row3 col0\" >3</td>\n                        <td id=\"T_a0ac40e0_7ff0_11eb_b165_6c6a776380b6row3_col1\" class=\"data row3 col1\" >3</td>\n                        <td id=\"T_a0ac40e0_7ff0_11eb_b165_6c6a776380b6row3_col2\" class=\"data row3 col2\" >案961為菲律賓籍20多歲男性移工，今年2月9日來台工作，持有搭機前3日內檢驗陰性報告，入境後至集中檢疫所檢疫，2月22日接受檢疫期滿前採檢，結果為陰性。</td>\n                        <td id=\"T_a0ac40e0_7ff0_11eb_b165_6c6a776380b6row3_col3\" class=\"data row3 col3\" >案961為菲律賓籍20多歲男性移工，今年2月9日來台工作，持有搭機前3日內檢驗陰性報告，入境後至集中檢疫所檢疫，2月22日接受檢疫期滿前採檢，結果為陰性，檢疫期滿後，由仲介安排至其他住所自主健康管理，2月26日搭乘專車至醫院自費採檢，因核酸檢測未確定，27日先行收治住院隔離，同日及3月2日進行核酸檢驗，於今日確診。</td>\n                        <td id=\"T_a0ac40e0_7ff0_11eb_b165_6c6a776380b6row3_col4\" class=\"data row3 col4\" >1.000000</td>\n            </tr>\n            <tr>\n                                <td id=\"T_a0ac40e0_7ff0_11eb_b165_6c6a776380b6row4_col0\" class=\"data row4 col0\" >4</td>\n                        <td id=\"T_a0ac40e0_7ff0_11eb_b165_6c6a776380b6row4_col1\" class=\"data row4 col1\" >3</td>\n                        <td id=\"T_a0ac40e0_7ff0_11eb_b165_6c6a776380b6row4_col2\" class=\"data row4 col2\" >個案檢疫期滿後，由仲介安排至其他住所自主健康管理，2月26日搭乘專車至醫院自費採檢，因核酸檢測未確定，27日先行收治住院隔離，同日及3月2日進行核酸檢驗，於今日確診。</td>\n                        <td id=\"T_a0ac40e0_7ff0_11eb_b165_6c6a776380b6row4_col3\" class=\"data row4 col3\" >案961為菲律賓籍20多歲男性移工，今年2月9日來台工作，持有搭機前3日內檢驗陰性報告，入境後至集中檢疫所檢疫，2月22日接受檢疫期滿前採檢，結果為陰性，檢疫期滿後，由仲介安排至其他住所自主健康管理，2月26日搭乘專車至醫院自費採檢，因核酸檢測未確定，27日先行收治住院隔離，同日及3月2日進行核酸檢驗，於今日確診。</td>\n                        <td id=\"T_a0ac40e0_7ff0_11eb_b165_6c6a776380b6row4_col4\" class=\"data row4 col4\" >0.976190</td>\n            </tr>\n            <tr>\n                                <td id=\"T_a0ac40e0_7ff0_11eb_b165_6c6a776380b6row5_col0\" class=\"data row5 col0\" >5</td>\n                        <td id=\"T_a0ac40e0_7ff0_11eb_b165_6c6a776380b6row5_col1\" class=\"data row5 col1\" >4</td>\n                        <td id=\"T_a0ac40e0_7ff0_11eb_b165_6c6a776380b6row5_col2\" class=\"data row5 col2\" >個案入境至今無症狀，已掌握個案接觸者共9人，其中同車移工8人未確實佩戴口罩，列居家隔離，司機1人因有適當防護，列自主健康管理。</td>\n                        <td id=\"T_a0ac40e0_7ff0_11eb_b165_6c6a776380b6row5_col3\" class=\"data row5 col3\" >該名個案入境至今無症狀，已掌握個案接觸者共9人，其中同車移工8人未確實佩戴口罩，列居家隔離，司機1人因有適當防護，列自主健康管理。</td>\n                        <td id=\"T_a0ac40e0_7ff0_11eb_b165_6c6a776380b6row5_col4\" class=\"data row5 col4\" >1.000000</td>\n            </tr>\n            <tr>\n                                <td id=\"T_a0ac40e0_7ff0_11eb_b165_6c6a776380b6row6_col0\" class=\"data row6 col0\" >6</td>\n                        <td id=\"T_a0ac40e0_7ff0_11eb_b165_6c6a776380b6row6_col1\" class=\"data row6 col1\" >5</td>\n                        <td id=\"T_a0ac40e0_7ff0_11eb_b165_6c6a776380b6row6_col2\" class=\"data row6 col2\" >指揮中心統計，截至目前國內累計960例確診，分別為844例境外移入，77例本土病例，36例敦睦艦隊、2例航空器感染及1例不明；另1例(案530)移除為空號。確診個案中9人死亡、928人解除隔離、23人住院隔離中。</td>\n                        <td id=\"T_a0ac40e0_7ff0_11eb_b165_6c6a776380b6row6_col3\" class=\"data row6 col3\" >指揮中心統計，截至目前國內累計960例武漢肺炎，分別為844例境外移入，77例本土病例，36例敦睦艦隊、2例航空器感染及1例不明；另1例（案530）移除為空號。確診個案中9人死亡、928人解除隔離、23人住院隔離中。</td>\n                        <td id=\"T_a0ac40e0_7ff0_11eb_b165_6c6a776380b6row6_col4\" class=\"data row6 col4\" >0.938776</td>\n            </tr>\n    </tbody></table>"
     },
     "metadata": {},
     "execution_count": 13
    }
   ],
   "source": [
    "## Overlap \n",
    "\n",
    "def Overlap(doc1, doc2):\n",
    "    doc1 = set(doc1)\n",
    "    doc2 = set(doc2)\n",
    "    temp=0\n",
    "    for i in doc1:\n",
    "        if i in doc2:\n",
    "            temp=temp+1\n",
    "    overlap_coefficient=float(temp/(min(len(doc2),len(doc1))))#交集\n",
    "    return overlap_coefficient\n",
    "doc1_index = 0\n",
    "d =[]\n",
    "for ws in doc_ws[0]:\n",
    "    overlap_=[]\n",
    "    doc2_index= 0\n",
    "    for ws_x in doc_ws[1]:\n",
    "        \n",
    "\n",
    "        overlap_.append(Overlap(ws, ws_x)) #dice\n",
    "        doc2_index+=1\n",
    "    d.append(\n",
    "        {\n",
    "            'document1_sentence id': doc1_index,\n",
    "            'document2_sentence id': overlap_.index(max(overlap_)),\n",
    "            'document1 content': text[0][doc1_index],\n",
    "            'document2 content': text[1][overlap_.index(max(overlap_))],\n",
    "            'overlap_coefficient': max(overlap_),\n",
    "            \n",
    "        }\n",
    "    )\n",
    "    # print(doc1_index,text[0][doc1_index])\n",
    "    # print(overlap_.index(max(overlap_)),text[1][overlap_.index(max(overlap_))])\n",
    "    # print(\"overlap_coefficient\",max(overlap_)) \n",
    "    doc1_index+=1\n",
    "\n",
    "\n",
    "pd.DataFrame(d)\n",
    "pd.DataFrame(d).style.hide_index()\n"
   ]
  },
  {
   "source": [
    "## 6. cosine similarity\n",
    "\n",
    "## Method implement\n",
    "- 因為 cosine similarity這個方法需要將文字轉成vector，所以將資料透過下列兩種方法嘗試\n",
    "    1. TF-IDF\n",
    "    2.  Doc2Vec\n",
    "- 疑問點:透過此類方法需要進行刪除停用句(甚至可以挑選POS的方式)，與上述方法比較並不公平? "
   ],
   "cell_type": "markdown",
   "metadata": {}
  },
  {
   "cell_type": "code",
   "execution_count": 14,
   "metadata": {},
   "outputs": [],
   "source": [
    "## use space to tokenize\n",
    "doc_ws_space = []\n",
    "for doc in doc_ws:\n",
    "    ws_space = []\n",
    "    for word in doc:\n",
    "        ws_space.append('  '.join(word))\n",
    "    doc_ws_space.append(ws_space)"
   ]
  },
  {
   "source": [
    "### 1. cosine similarity with TF-IDF"
   ],
   "cell_type": "markdown",
   "metadata": {}
  },
  {
   "cell_type": "code",
   "execution_count": 15,
   "metadata": {},
   "outputs": [],
   "source": [
    "# Scikit Learn\n",
    "from sklearn.feature_extraction.text import CountVectorizer\n",
    "import pandas as pd\n",
    "\n",
    "# tranditional chinese stopword \n",
    "stpwrdpath =\"stopword.txt\"\n",
    "with open(stpwrdpath, 'rb') as fp:\n",
    "    stopword = fp.read().decode('utf-8')  \n",
    "stpwrdlst = stopword.splitlines()\n",
    "count_vectorizer=CountVectorizer(stop_words=stpwrdlst) #建立詞袋資料結構\n",
    "# Create the Document Term Matrix\n",
    "sparse_matrix = count_vectorizer.fit_transform(doc_ws_space[0]+doc_ws_space[1])\n",
    "# OPTIONAL: Convert Sparse Matrix to Pandas Dataframe if you want to see the word frequencies.\n",
    "doc_term_matrix = sparse_matrix.todense()\n",
    "df = pd.DataFrame(doc_term_matrix, \n",
    "                  columns=count_vectorizer.get_feature_names(), )\n"
   ]
  },
  {
   "cell_type": "code",
   "execution_count": 16,
   "metadata": {},
   "outputs": [],
   "source": [
    "# Compute Cosine Similarity\n",
    "from sklearn.metrics.pairwise import cosine_similarity\n",
    "cosine_matrix = cosine_similarity(df, df)\n",
    "\n"
   ]
  },
  {
   "cell_type": "code",
   "execution_count": 17,
   "metadata": {},
   "outputs": [
    {
     "output_type": "execute_result",
     "data": {
      "text/plain": [
       "<pandas.io.formats.style.Styler at 0x2750150c2b0>"
      ],
      "text/html": "<style  type=\"text/css\" >\n</style><table id=\"T_a10dfeee_7ff0_11eb_9c3f_6c6a776380b6\" ><thead>    <tr>        <th class=\"col_heading level0 col0\" >document1_sentence id</th>        <th class=\"col_heading level0 col1\" >document2_sentence id</th>        <th class=\"col_heading level0 col2\" >document1 content</th>        <th class=\"col_heading level0 col3\" >document2 content</th>        <th class=\"col_heading level0 col4\" >cosine_simliarty with TF-IDF</th>    </tr></thead><tbody>\n                <tr>\n                                <td id=\"T_a10dfeee_7ff0_11eb_9c3f_6c6a776380b6row0_col0\" class=\"data row0 col0\" >0</td>\n                        <td id=\"T_a10dfeee_7ff0_11eb_9c3f_6c6a776380b6row0_col1\" class=\"data row0 col1\" >0</td>\n                        <td id=\"T_a10dfeee_7ff0_11eb_9c3f_6c6a776380b6row0_col2\" class=\"data row0 col2\" >（台灣英文新聞／醫藥組　綜合報導）中央流行疫情指揮中心今(4)日公布國內新增2例武漢肺炎（COVID-19）境外移入確定病例(案960、961)，分別自奈及利亞及菲律賓入境。</td>\n                        <td id=\"T_a10dfeee_7ff0_11eb_9c3f_6c6a776380b6row0_col3\" class=\"data row0 col3\" >〔記者林惠琴／台北報導〕中央流行疫情指揮中心今日公布，武漢肺炎（新型冠狀病毒病，COVID-19）新增2例境外移入，分別自奈及利亞及菲律賓入境。</td>\n                        <td id=\"T_a10dfeee_7ff0_11eb_9c3f_6c6a776380b6row0_col4\" class=\"data row0 col4\" >0.669894</td>\n            </tr>\n            <tr>\n                                <td id=\"T_a10dfeee_7ff0_11eb_9c3f_6c6a776380b6row1_col0\" class=\"data row1 col0\" >1</td>\n                        <td id=\"T_a10dfeee_7ff0_11eb_9c3f_6c6a776380b6row1_col1\" class=\"data row1 col1\" >1</td>\n                        <td id=\"T_a10dfeee_7ff0_11eb_9c3f_6c6a776380b6row1_col2\" class=\"data row1 col2\" >指揮中心表示，案960為奈及利亞籍50多歲男性，長期居住台灣，並持有我國居留證，今(2021)年1月8日返回奈及利亞奔喪，在當地曾於1月18日出現輕微咳嗽，經自行服藥後症狀緩解。</td>\n                        <td id=\"T_a10dfeee_7ff0_11eb_9c3f_6c6a776380b6row1_col3\" class=\"data row1 col3\" >指揮中心發言人莊人祥表示，新增的案960為奈及利亞籍50多歲男性，長期居住台灣，並持有我國居留證，今年1月8日返回奈及利亞奔喪，在當地曾於1月18日出現輕微咳嗽，經自行服藥後症狀緩解。</td>\n                        <td id=\"T_a10dfeee_7ff0_11eb_9c3f_6c6a776380b6row1_col4\" class=\"data row1 col4\" >0.924062</td>\n            </tr>\n            <tr>\n                                <td id=\"T_a10dfeee_7ff0_11eb_9c3f_6c6a776380b6row2_col0\" class=\"data row2 col0\" >2</td>\n                        <td id=\"T_a10dfeee_7ff0_11eb_9c3f_6c6a776380b6row2_col1\" class=\"data row2 col1\" >2</td>\n                        <td id=\"T_a10dfeee_7ff0_11eb_9c3f_6c6a776380b6row2_col2\" class=\"data row2 col2\" >個案2月28日返台，持有搭機前3日內檢驗陰性報告，入境後至防疫旅館檢疫，3月2日因全身倦怠及有慢性病之就醫需求，由衛生單位安排就醫採檢，於今日確診。個案就醫時接觸之相關人員皆有適當防護，故無匡列接觸者。</td>\n                        <td id=\"T_a10dfeee_7ff0_11eb_9c3f_6c6a776380b6row2_col3\" class=\"data row2 col3\" >該名個案2月28日返台，持有搭機前3日內檢驗陰性報告，入境後至防疫旅館檢疫，3月2日因全身倦怠及有慢性病之就醫需求，由衛生單位安排就醫採檢，於今日確診。就醫時接觸相關人員皆有適當防護，無匡列接觸者。</td>\n                        <td id=\"T_a10dfeee_7ff0_11eb_9c3f_6c6a776380b6row2_col4\" class=\"data row2 col4\" >0.989326</td>\n            </tr>\n            <tr>\n                                <td id=\"T_a10dfeee_7ff0_11eb_9c3f_6c6a776380b6row3_col0\" class=\"data row3 col0\" >3</td>\n                        <td id=\"T_a10dfeee_7ff0_11eb_9c3f_6c6a776380b6row3_col1\" class=\"data row3 col1\" >3</td>\n                        <td id=\"T_a10dfeee_7ff0_11eb_9c3f_6c6a776380b6row3_col2\" class=\"data row3 col2\" >案961為菲律賓籍20多歲男性移工，今年2月9日來台工作，持有搭機前3日內檢驗陰性報告，入境後至集中檢疫所檢疫，2月22日接受檢疫期滿前採檢，結果為陰性。</td>\n                        <td id=\"T_a10dfeee_7ff0_11eb_9c3f_6c6a776380b6row3_col3\" class=\"data row3 col3\" >案961為菲律賓籍20多歲男性移工，今年2月9日來台工作，持有搭機前3日內檢驗陰性報告，入境後至集中檢疫所檢疫，2月22日接受檢疫期滿前採檢，結果為陰性，檢疫期滿後，由仲介安排至其他住所自主健康管理，2月26日搭乘專車至醫院自費採檢，因核酸檢測未確定，27日先行收治住院隔離，同日及3月2日進行核酸檢驗，於今日確診。</td>\n                        <td id=\"T_a10dfeee_7ff0_11eb_9c3f_6c6a776380b6row3_col4\" class=\"data row3 col4\" >0.777781</td>\n            </tr>\n            <tr>\n                                <td id=\"T_a10dfeee_7ff0_11eb_9c3f_6c6a776380b6row4_col0\" class=\"data row4 col0\" >4</td>\n                        <td id=\"T_a10dfeee_7ff0_11eb_9c3f_6c6a776380b6row4_col1\" class=\"data row4 col1\" >3</td>\n                        <td id=\"T_a10dfeee_7ff0_11eb_9c3f_6c6a776380b6row4_col2\" class=\"data row4 col2\" >個案檢疫期滿後，由仲介安排至其他住所自主健康管理，2月26日搭乘專車至醫院自費採檢，因核酸檢測未確定，27日先行收治住院隔離，同日及3月2日進行核酸檢驗，於今日確診。</td>\n                        <td id=\"T_a10dfeee_7ff0_11eb_9c3f_6c6a776380b6row4_col3\" class=\"data row4 col3\" >案961為菲律賓籍20多歲男性移工，今年2月9日來台工作，持有搭機前3日內檢驗陰性報告，入境後至集中檢疫所檢疫，2月22日接受檢疫期滿前採檢，結果為陰性，檢疫期滿後，由仲介安排至其他住所自主健康管理，2月26日搭乘專車至醫院自費採檢，因核酸檢測未確定，27日先行收治住院隔離，同日及3月2日進行核酸檢驗，於今日確診。</td>\n                        <td id=\"T_a10dfeee_7ff0_11eb_9c3f_6c6a776380b6row4_col4\" class=\"data row4 col4\" >0.773682</td>\n            </tr>\n            <tr>\n                                <td id=\"T_a10dfeee_7ff0_11eb_9c3f_6c6a776380b6row5_col0\" class=\"data row5 col0\" >5</td>\n                        <td id=\"T_a10dfeee_7ff0_11eb_9c3f_6c6a776380b6row5_col1\" class=\"data row5 col1\" >4</td>\n                        <td id=\"T_a10dfeee_7ff0_11eb_9c3f_6c6a776380b6row5_col2\" class=\"data row5 col2\" >個案入境至今無症狀，已掌握個案接觸者共9人，其中同車移工8人未確實佩戴口罩，列居家隔離，司機1人因有適當防護，列自主健康管理。</td>\n                        <td id=\"T_a10dfeee_7ff0_11eb_9c3f_6c6a776380b6row5_col3\" class=\"data row5 col3\" >該名個案入境至今無症狀，已掌握個案接觸者共9人，其中同車移工8人未確實佩戴口罩，列居家隔離，司機1人因有適當防護，列自主健康管理。</td>\n                        <td id=\"T_a10dfeee_7ff0_11eb_9c3f_6c6a776380b6row5_col4\" class=\"data row5 col4\" >1.000000</td>\n            </tr>\n            <tr>\n                                <td id=\"T_a10dfeee_7ff0_11eb_9c3f_6c6a776380b6row6_col0\" class=\"data row6 col0\" >6</td>\n                        <td id=\"T_a10dfeee_7ff0_11eb_9c3f_6c6a776380b6row6_col1\" class=\"data row6 col1\" >5</td>\n                        <td id=\"T_a10dfeee_7ff0_11eb_9c3f_6c6a776380b6row6_col2\" class=\"data row6 col2\" >指揮中心統計，截至目前國內累計960例確診，分別為844例境外移入，77例本土病例，36例敦睦艦隊、2例航空器感染及1例不明；另1例(案530)移除為空號。確診個案中9人死亡、928人解除隔離、23人住院隔離中。</td>\n                        <td id=\"T_a10dfeee_7ff0_11eb_9c3f_6c6a776380b6row6_col3\" class=\"data row6 col3\" >指揮中心統計，截至目前國內累計960例武漢肺炎，分別為844例境外移入，77例本土病例，36例敦睦艦隊、2例航空器感染及1例不明；另1例（案530）移除為空號。確診個案中9人死亡、928人解除隔離、23人住院隔離中。</td>\n                        <td id=\"T_a10dfeee_7ff0_11eb_9c3f_6c6a776380b6row6_col4\" class=\"data row6 col4\" >0.929670</td>\n            </tr>\n    </tbody></table>"
     },
     "metadata": {},
     "execution_count": 17
    }
   ],
   "source": [
    "# find the most similar document\n",
    "sim= []\n",
    "d = []\n",
    "for index in range(len(doc_ws[0])):\n",
    "    i = np.where(cosine_matrix[index][7:] ==max(cosine_matrix[index][7:]))\n",
    "    # print(i)\n",
    "    # print(text[0][index])\n",
    "    # print(text[1][int(i[0])])\n",
    "    # print(max(cosine_matrix[index][7:]))\n",
    "\n",
    "\n",
    "    d.append(\n",
    "        {\n",
    "            'document1_sentence id': index,\n",
    "            'document2_sentence id': int(i[0]),\n",
    "            'document1 content': text[0][index],\n",
    "            'document2 content': text[1][int(i[0])],\n",
    "            'cosine_simliarty with TF-IDF': max(cosine_matrix[index][7:]),\n",
    "            \n",
    "        }\n",
    "    )\n",
    "    # print(doc1_index,text[0][doc1_index])\n",
    "    # print(overlap_.index(max(overlap_)),text[1][overlap_.index(max(overlap_))])\n",
    "    # print(\"overlap_coefficient\",max(overlap_)) \n",
    "    doc1_index+=1\n",
    "\n",
    "\n",
    "pd.DataFrame(d)\n",
    "pd.DataFrame(d).style.hide_index()\n"
   ]
  },
  {
   "source": [
    "### 2. cosine similarity with Doc2Vec\n",
    "\n",
    "- 用doc2vec的方法，結果不是很好，不知道為什麼，可能是因為資料不夠多，網路上的資料似乎顯示doc2vec做中文本身就沒有很好"
   ],
   "cell_type": "markdown",
   "metadata": {}
  },
  {
   "cell_type": "code",
   "execution_count": 18,
   "metadata": {},
   "outputs": [
    {
     "output_type": "execute_result",
     "data": {
      "text/plain": [
       "<pandas.io.formats.style.Styler at 0x2750177dee0>"
      ],
      "text/html": "<style  type=\"text/css\" >\n</style><table id=\"T_a137974f_7ff0_11eb_906f_6c6a776380b6\" ><thead>    <tr>        <th class=\"col_heading level0 col0\" >document1_sentence id</th>        <th class=\"col_heading level0 col1\" >document2_sentence id</th>        <th class=\"col_heading level0 col2\" >document1 content</th>        <th class=\"col_heading level0 col3\" >document2 content</th>        <th class=\"col_heading level0 col4\" >cosine_simliarty with Doc2Vec</th>    </tr></thead><tbody>\n                <tr>\n                                <td id=\"T_a137974f_7ff0_11eb_906f_6c6a776380b6row0_col0\" class=\"data row0 col0\" >0</td>\n                        <td id=\"T_a137974f_7ff0_11eb_906f_6c6a776380b6row0_col1\" class=\"data row0 col1\" >3</td>\n                        <td id=\"T_a137974f_7ff0_11eb_906f_6c6a776380b6row0_col2\" class=\"data row0 col2\" >（台灣英文新聞／醫藥組　綜合報導）中央流行疫情指揮中心今(4)日公布國內新增2例武漢肺炎（COVID-19）境外移入確定病例(案960、961)，分別自奈及利亞及菲律賓入境。</td>\n                        <td id=\"T_a137974f_7ff0_11eb_906f_6c6a776380b6row0_col3\" class=\"data row0 col3\" >案961為菲律賓籍20多歲男性移工，今年2月9日來台工作，持有搭機前3日內檢驗陰性報告，入境後至集中檢疫所檢疫，2月22日接受檢疫期滿前採檢，結果為陰性，檢疫期滿後，由仲介安排至其他住所自主健康管理，2月26日搭乘專車至醫院自費採檢，因核酸檢測未確定，27日先行收治住院隔離，同日及3月2日進行核酸檢驗，於今日確診。</td>\n                        <td id=\"T_a137974f_7ff0_11eb_906f_6c6a776380b6row0_col4\" class=\"data row0 col4\" >0.999591</td>\n            </tr>\n            <tr>\n                                <td id=\"T_a137974f_7ff0_11eb_906f_6c6a776380b6row1_col0\" class=\"data row1 col0\" >1</td>\n                        <td id=\"T_a137974f_7ff0_11eb_906f_6c6a776380b6row1_col1\" class=\"data row1 col1\" >3</td>\n                        <td id=\"T_a137974f_7ff0_11eb_906f_6c6a776380b6row1_col2\" class=\"data row1 col2\" >指揮中心表示，案960為奈及利亞籍50多歲男性，長期居住台灣，並持有我國居留證，今(2021)年1月8日返回奈及利亞奔喪，在當地曾於1月18日出現輕微咳嗽，經自行服藥後症狀緩解。</td>\n                        <td id=\"T_a137974f_7ff0_11eb_906f_6c6a776380b6row1_col3\" class=\"data row1 col3\" >案961為菲律賓籍20多歲男性移工，今年2月9日來台工作，持有搭機前3日內檢驗陰性報告，入境後至集中檢疫所檢疫，2月22日接受檢疫期滿前採檢，結果為陰性，檢疫期滿後，由仲介安排至其他住所自主健康管理，2月26日搭乘專車至醫院自費採檢，因核酸檢測未確定，27日先行收治住院隔離，同日及3月2日進行核酸檢驗，於今日確診。</td>\n                        <td id=\"T_a137974f_7ff0_11eb_906f_6c6a776380b6row1_col4\" class=\"data row1 col4\" >0.999617</td>\n            </tr>\n            <tr>\n                                <td id=\"T_a137974f_7ff0_11eb_906f_6c6a776380b6row2_col0\" class=\"data row2 col0\" >2</td>\n                        <td id=\"T_a137974f_7ff0_11eb_906f_6c6a776380b6row2_col1\" class=\"data row2 col1\" >3</td>\n                        <td id=\"T_a137974f_7ff0_11eb_906f_6c6a776380b6row2_col2\" class=\"data row2 col2\" >個案2月28日返台，持有搭機前3日內檢驗陰性報告，入境後至防疫旅館檢疫，3月2日因全身倦怠及有慢性病之就醫需求，由衛生單位安排就醫採檢，於今日確診。個案就醫時接觸之相關人員皆有適當防護，故無匡列接觸者。</td>\n                        <td id=\"T_a137974f_7ff0_11eb_906f_6c6a776380b6row2_col3\" class=\"data row2 col3\" >案961為菲律賓籍20多歲男性移工，今年2月9日來台工作，持有搭機前3日內檢驗陰性報告，入境後至集中檢疫所檢疫，2月22日接受檢疫期滿前採檢，結果為陰性，檢疫期滿後，由仲介安排至其他住所自主健康管理，2月26日搭乘專車至醫院自費採檢，因核酸檢測未確定，27日先行收治住院隔離，同日及3月2日進行核酸檢驗，於今日確診。</td>\n                        <td id=\"T_a137974f_7ff0_11eb_906f_6c6a776380b6row2_col4\" class=\"data row2 col4\" >0.999623</td>\n            </tr>\n            <tr>\n                                <td id=\"T_a137974f_7ff0_11eb_906f_6c6a776380b6row3_col0\" class=\"data row3 col0\" >3</td>\n                        <td id=\"T_a137974f_7ff0_11eb_906f_6c6a776380b6row3_col1\" class=\"data row3 col1\" >3</td>\n                        <td id=\"T_a137974f_7ff0_11eb_906f_6c6a776380b6row3_col2\" class=\"data row3 col2\" >案961為菲律賓籍20多歲男性移工，今年2月9日來台工作，持有搭機前3日內檢驗陰性報告，入境後至集中檢疫所檢疫，2月22日接受檢疫期滿前採檢，結果為陰性。</td>\n                        <td id=\"T_a137974f_7ff0_11eb_906f_6c6a776380b6row3_col3\" class=\"data row3 col3\" >案961為菲律賓籍20多歲男性移工，今年2月9日來台工作，持有搭機前3日內檢驗陰性報告，入境後至集中檢疫所檢疫，2月22日接受檢疫期滿前採檢，結果為陰性，檢疫期滿後，由仲介安排至其他住所自主健康管理，2月26日搭乘專車至醫院自費採檢，因核酸檢測未確定，27日先行收治住院隔離，同日及3月2日進行核酸檢驗，於今日確診。</td>\n                        <td id=\"T_a137974f_7ff0_11eb_906f_6c6a776380b6row3_col4\" class=\"data row3 col4\" >0.999725</td>\n            </tr>\n            <tr>\n                                <td id=\"T_a137974f_7ff0_11eb_906f_6c6a776380b6row4_col0\" class=\"data row4 col0\" >4</td>\n                        <td id=\"T_a137974f_7ff0_11eb_906f_6c6a776380b6row4_col1\" class=\"data row4 col1\" >3</td>\n                        <td id=\"T_a137974f_7ff0_11eb_906f_6c6a776380b6row4_col2\" class=\"data row4 col2\" >個案檢疫期滿後，由仲介安排至其他住所自主健康管理，2月26日搭乘專車至醫院自費採檢，因核酸檢測未確定，27日先行收治住院隔離，同日及3月2日進行核酸檢驗，於今日確診。</td>\n                        <td id=\"T_a137974f_7ff0_11eb_906f_6c6a776380b6row4_col3\" class=\"data row4 col3\" >案961為菲律賓籍20多歲男性移工，今年2月9日來台工作，持有搭機前3日內檢驗陰性報告，入境後至集中檢疫所檢疫，2月22日接受檢疫期滿前採檢，結果為陰性，檢疫期滿後，由仲介安排至其他住所自主健康管理，2月26日搭乘專車至醫院自費採檢，因核酸檢測未確定，27日先行收治住院隔離，同日及3月2日進行核酸檢驗，於今日確診。</td>\n                        <td id=\"T_a137974f_7ff0_11eb_906f_6c6a776380b6row4_col4\" class=\"data row4 col4\" >0.999745</td>\n            </tr>\n            <tr>\n                                <td id=\"T_a137974f_7ff0_11eb_906f_6c6a776380b6row5_col0\" class=\"data row5 col0\" >5</td>\n                        <td id=\"T_a137974f_7ff0_11eb_906f_6c6a776380b6row5_col1\" class=\"data row5 col1\" >3</td>\n                        <td id=\"T_a137974f_7ff0_11eb_906f_6c6a776380b6row5_col2\" class=\"data row5 col2\" >個案入境至今無症狀，已掌握個案接觸者共9人，其中同車移工8人未確實佩戴口罩，列居家隔離，司機1人因有適當防護，列自主健康管理。</td>\n                        <td id=\"T_a137974f_7ff0_11eb_906f_6c6a776380b6row5_col3\" class=\"data row5 col3\" >案961為菲律賓籍20多歲男性移工，今年2月9日來台工作，持有搭機前3日內檢驗陰性報告，入境後至集中檢疫所檢疫，2月22日接受檢疫期滿前採檢，結果為陰性，檢疫期滿後，由仲介安排至其他住所自主健康管理，2月26日搭乘專車至醫院自費採檢，因核酸檢測未確定，27日先行收治住院隔離，同日及3月2日進行核酸檢驗，於今日確診。</td>\n                        <td id=\"T_a137974f_7ff0_11eb_906f_6c6a776380b6row5_col4\" class=\"data row5 col4\" >0.999570</td>\n            </tr>\n            <tr>\n                                <td id=\"T_a137974f_7ff0_11eb_906f_6c6a776380b6row6_col0\" class=\"data row6 col0\" >6</td>\n                        <td id=\"T_a137974f_7ff0_11eb_906f_6c6a776380b6row6_col1\" class=\"data row6 col1\" >3</td>\n                        <td id=\"T_a137974f_7ff0_11eb_906f_6c6a776380b6row6_col2\" class=\"data row6 col2\" >指揮中心統計，截至目前國內累計960例確診，分別為844例境外移入，77例本土病例，36例敦睦艦隊、2例航空器感染及1例不明；另1例(案530)移除為空號。確診個案中9人死亡、928人解除隔離、23人住院隔離中。</td>\n                        <td id=\"T_a137974f_7ff0_11eb_906f_6c6a776380b6row6_col3\" class=\"data row6 col3\" >案961為菲律賓籍20多歲男性移工，今年2月9日來台工作，持有搭機前3日內檢驗陰性報告，入境後至集中檢疫所檢疫，2月22日接受檢疫期滿前採檢，結果為陰性，檢疫期滿後，由仲介安排至其他住所自主健康管理，2月26日搭乘專車至醫院自費採檢，因核酸檢測未確定，27日先行收治住院隔離，同日及3月2日進行核酸檢驗，於今日確診。</td>\n                        <td id=\"T_a137974f_7ff0_11eb_906f_6c6a776380b6row6_col4\" class=\"data row6 col4\" >0.999533</td>\n            </tr>\n    </tbody></table>"
     },
     "metadata": {},
     "execution_count": 18
    }
   ],
   "source": [
    "import gensim\n",
    "from gensim.models.doc2vec import Doc2Vec, LabeledSentence\n",
    " \n",
    "TaggededDocument = gensim.models.doc2vec.TaggedDocument\n",
    "\n",
    "\n",
    "\n",
    "# tranditional chinese stopword \n",
    "stpwrdpath =\"stopword.txt\"\n",
    "with open(stpwrdpath, 'rb') as fp:\n",
    "    stopword = fp.read().decode('utf-8')  \n",
    "stpwrdlst = stopword.splitlines()\n",
    "\n",
    "## get trainning data  ### 只有丟文件B的資料\n",
    "x_train = []\n",
    "for i, content in enumerate(doc_ws[1]):\n",
    "    word_list  = [word for word in content if not word in stpwrdlst]\n",
    "    l = len(word_list)\n",
    "    word_list[l - 1] = word_list[l - 1].strip()\n",
    "    document = TaggededDocument(word_list, tags=[i])\n",
    "    x_train.append(document)\n",
    "\n",
    "### train model ### if you want to retrain model \n",
    "model = Doc2Vec(x_train, min_count=1, window=3, size=200, sample=1e-3, negative=5, workers=4)\n",
    "model.train(x_train, total_examples=model.corpus_count, epochs=70)\n",
    "# model.save('model/model')\n",
    "\n",
    "\n",
    "## test 文件A 資料\n",
    "# model = Doc2Vec.load(\"model/model\")\n",
    "d = []\n",
    "    #句子向量化操作\n",
    "for i,doc in enumerate(doc_ws[0]):\n",
    "    word_list  = [word for word in doc if not word in stpwrdlst]\n",
    "    inferred_vector = model.infer_vector(word_list)\n",
    "    sim = model.docvecs.most_similar([inferred_vector], topn=1)\n",
    "    # sims.append(sim)\n",
    "    \n",
    "    d.append(\n",
    "        {\n",
    "            'document1_sentence id': i,\n",
    "            'document2_sentence id': sim[0][0],\n",
    "            'document1 content': text[0][i],\n",
    "            'document2 content': text[1][sim[0][0]],\n",
    "            'cosine_simliarty with Doc2Vec': sim[0][1],\n",
    "            \n",
    "        }\n",
    "    )\n",
    "    # # print(doc1_index,text[0][doc1_index])\n",
    "    # # print(overlap_.index(max(overlap_)),text[1][overlap_.index(max(overlap_))])\n",
    "    # # print(\"overlap_coefficient\",max(overlap_)) \n",
    "    # doc1_index+=1\n",
    "\n",
    "\n",
    "pd.DataFrame(d)\n",
    "pd.DataFrame(d).style.hide_index()\n"
   ]
  }
 ],
 "metadata": {
  "kernelspec": {
   "name": "py.3.6.9",
   "display_name": "py.3.6.9",
   "language": "python"
  }
 },
 "nbformat": 4,
 "nbformat_minor": 4
}